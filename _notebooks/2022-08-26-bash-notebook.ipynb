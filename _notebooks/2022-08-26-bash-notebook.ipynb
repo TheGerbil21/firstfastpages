{
 "cells": [
  {
   "cell_type": "markdown",
   "metadata": {},
   "source": [
    "# First Bash Code Experiment in Jupyter Notebooks!\n",
    "\n",
    "Hello everyone, this is my first project using bash in Jupyter Notebooks! I made a calculator of sorts that should work for all four operations. Enjoy!"
   ]
  },
  {
   "cell_type": "code",
   "execution_count": null,
   "metadata": {
    "vscode": {
     "languageId": "shellscript"
    }
   },
   "outputs": [],
   "source": [
    "# !/bin/bash\n",
    "\n",
    "# Take user Input\n",
    "echo \"Enter Two numbers : \"\n",
    "read a\n",
    "read b\n",
    "\n",
    "# Input type of operation\n",
    "echo \"Enter Choice :\"\n",
    "echo \"1. Addition\"\n",
    "echo \"2. Subtraction\"\n",
    "echo \"3. Multiplication\"\n",
    "echo \"4. Division\"\n",
    "read ch\n",
    "\n",
    "# Switch Case to perform\n",
    "# calculator operations\n",
    "case $ch in\n",
    "1)res=`echo $a + $b | bc`\n",
    ";;\n",
    "2)res=`echo $a - $b | bc`\n",
    ";;\n",
    "3)res=`echo $a \\* $b | bc`\n",
    ";;\n",
    "4)res=`echo \"scale=2; $a / $b\" | bc`\n",
    ";;\n",
    "esac\n",
    "echo \"Result : $res\"\n"
   ]
  }
 ],
 "metadata": {
  "kernelspec": {
   "display_name": "Bash",
   "language": "bash",
   "name": "bash"
  },
  "language_info": {
   "codemirror_mode": {
    "name": "ipython",
    "version": 3
   },
   "file_extension": ".py",
   "mimetype": "text/x-python",
   "name": "bash",
   "nbconvert_exporter": "python",
   "pygments_lexer": "ipython3",
   "version": "3.8.10"
  },
  "varInspector": {
   "cols": {
    "lenName": 16,
    "lenType": 16,
    "lenVar": 40
   },
   "kernels_config": {
    "python": {
     "delete_cmd_postfix": "",
     "delete_cmd_prefix": "del ",
     "library": "var_list.py",
     "varRefreshCmd": "print(var_dic_list())"
    },
    "r": {
     "delete_cmd_postfix": ") ",
     "delete_cmd_prefix": "rm(",
     "library": "var_list.r",
     "varRefreshCmd": "cat(var_dic_list()) "
    }
   },
   "types_to_exclude": [
    "module",
    "function",
    "builtin_function_or_method",
    "instance",
    "_Feature"
   ],
   "window_display": false
  },
  "vscode": {
   "interpreter": {
    "hash": "916dbcbb3f70747c44a77c7bcd40155683ae19c65e1c03b4aa3499c5328201f1"
   }
  }
 },
 "nbformat": 4,
 "nbformat_minor": 4
}
