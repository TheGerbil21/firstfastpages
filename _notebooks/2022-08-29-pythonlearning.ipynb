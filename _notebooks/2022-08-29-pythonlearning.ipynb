{
 "cells": [
  {
   "cell_type": "markdown",
   "metadata": {},
   "source": [
    "# My Key Learning on Hacks: Week One\n",
    "I learned about message display as well as inputs and outputs. This is a quiz function with questions and answers."
   ]
  },
  {
   "cell_type": "code",
   "execution_count": 1,
   "metadata": {},
   "outputs": [
    {
     "name": "stdout",
     "output_type": "stream",
     "text": [
      "Hello, jeffrey running /bin/python3\n",
      "You will be asked 3 questions.\n"
     ]
    },
    {
     "name": "stderr",
     "output_type": "stream",
     "text": [
      "Exception ignored in: '_pydevd_frame_eval.pydevd_frame_evaluator.get_bytecode_while_frame_eval_38'\n",
      "Traceback (most recent call last):\n",
      "  File \"_pydevd_frame_eval/pydevd_frame_evaluator.pyx\", line 269, in _pydevd_frame_eval.pydevd_frame_evaluator.get_func_code_info\n",
      "Traceback (most recent call last):\n",
      "  File \"/home/jeffrey/.local/lib/python3.8/site-packages/IPython/core/interactiveshell.py\", line 3398, in run_code\n",
      "    exec(code_obj, self.user_global_ns, self.user_ns)\n",
      "  File \"/tmp/ipykernel_5108/2184003199.py\", line 13, in <cell line: 13>\n",
      "    question_and_answer(\"Are you ready to take a test?\")\n",
      "NameError: name 'question_and_answer' is not defined\n",
      "\n",
      "During handling of the above exception, another exception occurred:\n",
      "\n",
      "Traceback (most recent call last):\n",
      "  File \"_pydevd_frame_eval/pydevd_frame_evaluator.pyx\", line 267, in _pydevd_frame_eval.pydevd_frame_evaluator.get_func_code_info\n",
      "KeyError: (205, '/home/jeffrey/.local/lib/python3.8/site-packages/pygments/formatters/terminal256.py', <code object _color_index at 0x7f43ecf5b450, file \"/home/jeffrey/.local/lib/python3.8/site-packages/pygments/formatters/terminal256.py\", line 205>)\n",
      "\n",
      "During handling of the above exception, another exception occurred:\n",
      "\n",
      "Traceback (most recent call last):\n",
      "  File \"/home/jeffrey/.local/lib/python3.8/site-packages/debugpy/_vendored/pydevd/pydevd.py\", line 1011, in get_file_type\n",
      "    return _cache_file_type[cache_key]\n",
      "KeyError: (205, '/home/jeffrey/.local/lib/python3.8/site-packages/pygments/formatters/terminal256.py', <code object _color_index at 0x7f43ecf5b450, file \"/home/jeffrey/.local/lib/python3.8/site-packages/pygments/formatters/terminal256.py\", line 205>)\n",
      "\n",
      "During handling of the above exception, another exception occurred:\n",
      "\n",
      "Traceback (most recent call last):\n",
      "  File \"_pydevd_frame_eval/pydevd_frame_evaluator.pyx\", line 269, in _pydevd_frame_eval.pydevd_frame_evaluator.get_func_code_info\n",
      "  File \"/home/jeffrey/.local/lib/python3.8/site-packages/debugpy/_vendored/pydevd/pydevd.py\", line 1011, in get_file_type\n",
      "    return _cache_file_type[cache_key]\n",
      "KeyboardInterrupt\n",
      "  File \"/home/jeffrey/.local/lib/python3.8/site-packages/debugpy/_vendored/pydevd/pydevd.py\", line 1011, in get_file_type\n",
      "    return _cache_file_type[cache_key]\n",
      "KeyboardInterrupt: \n"
     ]
    },
    {
     "name": "stdout",
     "output_type": "stream",
     "text": [
      "Unexpected exception formatting exception. Falling back to standard exception\n"
     ]
    },
    {
     "name": "stderr",
     "output_type": "stream",
     "text": [
      "Traceback (most recent call last):\n",
      "  File \"/home/jeffrey/.local/lib/python3.8/site-packages/IPython/core/interactiveshell.py\", line 3398, in run_code\n",
      "    exec(code_obj, self.user_global_ns, self.user_ns)\n",
      "  File \"/tmp/ipykernel_5108/2184003199.py\", line 13, in <cell line: 13>\n",
      "    question_and_answer(\"Are you ready to take a test?\")\n",
      "NameError: name 'question_and_answer' is not defined\n",
      "\n",
      "During handling of the above exception, another exception occurred:\n",
      "\n",
      "Traceback (most recent call last):\n",
      "  File \"/home/jeffrey/.local/lib/python3.8/site-packages/IPython/core/interactiveshell.py\", line 1993, in showtraceback\n",
      "    stb = self.InteractiveTB.structured_traceback(\n",
      "  File \"/home/jeffrey/.local/lib/python3.8/site-packages/IPython/core/ultratb.py\", line 1118, in structured_traceback\n",
      "    return FormattedTB.structured_traceback(\n",
      "  File \"/home/jeffrey/.local/lib/python3.8/site-packages/IPython/core/ultratb.py\", line 1012, in structured_traceback\n",
      "    return VerboseTB.structured_traceback(\n",
      "  File \"/home/jeffrey/.local/lib/python3.8/site-packages/IPython/core/ultratb.py\", line 865, in structured_traceback\n",
      "    formatted_exception = self.format_exception_as_a_whole(etype, evalue, etb, number_of_lines_of_context,\n",
      "  File \"/home/jeffrey/.local/lib/python3.8/site-packages/IPython/core/ultratb.py\", line 799, in format_exception_as_a_whole\n",
      "    self.get_records(etb, number_of_lines_of_context, tb_offset) if etb else []\n",
      "  File \"/home/jeffrey/.local/lib/python3.8/site-packages/IPython/core/ultratb.py\", line 846, in get_records\n",
      "    formatter = Terminal256Formatter(style=style)\n",
      "  File \"/home/jeffrey/.local/lib/python3.8/site-packages/pygments/formatters/terminal256.py\", line 147, in __init__\n",
      "    self._setup_styles()  # convert selected style's colors to term. colors\n",
      "  File \"/home/jeffrey/.local/lib/python3.8/site-packages/pygments/formatters/terminal256.py\", line 231, in _setup_styles\n",
      "    escape.fg = self._color_index(ndef['color'])\n",
      "SystemError: <function Terminal256Formatter._color_index at 0x7f43ecf710d0> returned NULL without setting an error\n"
     ]
    }
   ],
   "source": [
    "import getpass, sys\n",
    "\n",
    "def question_with_response(prompt):\n",
    "    print(\"Question: \" + prompt)\n",
    "    msg = input()\n",
    "    return msg\n",
    "\n",
    "questions = 3\n",
    "correct = 0\n",
    "\n",
    "print('Hello, ' + getpass.getuser() + \" running \" + sys.executable)\n",
    "print(\"You will be asked \" + str(questions) + \" questions.\")\n",
    "question_and_answer(\"Are you ready to take a test?\")\n",
    "\n",
    "rsp = question_with_response(\"What is two plus two?\")\n",
    "if rsp == \"4\":\n",
    "    print(rsp + \" is correct!\")\n",
    "    correct += 1\n",
    "else:\n",
    "    print(rsp + \" is incorrect!\")\n",
    "\n",
    "rsp = question_with_response(\"What is my name?\")\n",
    "if rsp == \"Jeffrey\":\n",
    "    print(rsp + \" is correct!\")\n",
    "    correct += 1\n",
    "else:\n",
    "    print(rsp + \" is incorrect!\")\n",
    "\n",
    "rsp = question_with_response(\"Did you enjoy the quiz?\")\n",
    "if rsp == \"Yes\":\n",
    "    print(rsp + \" is correct!\")\n",
    "    correct += 1\n",
    "else:\n",
    "    print(rsp + \" is incorrect!\")\n",
    "\n",
    "print(getpass.getuser() + \" you scored \" + str(correct) +\"/\" + str(questions))"
   ]
  }
 ],
 "metadata": {
  "kernelspec": {
   "display_name": "Python 3.8.10 64-bit",
   "language": "python",
   "name": "python3"
  },
  "language_info": {
   "codemirror_mode": {
    "name": "ipython",
    "version": 3
   },
   "file_extension": ".py",
   "mimetype": "text/x-python",
   "name": "python",
   "nbconvert_exporter": "python",
   "pygments_lexer": "ipython3",
   "version": "3.8.10"
  },
  "orig_nbformat": 4,
  "vscode": {
   "interpreter": {
    "hash": "916dbcbb3f70747c44a77c7bcd40155683ae19c65e1c03b4aa3499c5328201f1"
   }
  }
 },
 "nbformat": 4,
 "nbformat_minor": 2
}
