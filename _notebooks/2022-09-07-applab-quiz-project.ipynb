{
 "cells": [
  {
   "cell_type": "markdown",
   "metadata": {},
   "source": []
  },
  {
   "cell_type": "markdown",
   "metadata": {},
   "source": []
  },
  {
   "cell_type": "markdown",
   "metadata": {},
   "source": []
  },
  {
   "cell_type": "markdown",
   "metadata": {},
   "source": [
    "# Starting Program Design and App Lab Developments\n",
    "> My starting journey with Javascript, Block Coding in Code.org, and developing quizzes in AppLab.\n",
    "\n",
    "- title: Starting Program Design and App Lab Developments\n",
    "- toc: true\n",
    "- categories: [TechTalk]\n",
    "- tags: [java]"
   ]
  },
  {
   "cell_type": "markdown",
   "metadata": {},
   "source": [
    "## Ideation and Planning\n",
    "To build a functional and interactive quiz, I needed a good topic and questions. I decided on a topic of <mark>Among Us</mark> and wrote the following three questions with answer choices:\n",
    "\n",
    "JavaScript functions have special properties and syntax is shown in many ways.  In fact, a Class in JavaScript is a special function.  Jupyter Notebooks seems to be more friendly to \"function\" definitions versus \"Class\", thus this lesson uses \"function\" and \"prototype\" versus \"Class\".\n",
    "- <mark>Definition of function allows for a collection of data</mark>, the \"function Person\" allows programmer to retain name, github id, and class of designation.\n",
    "- <mark>Definition of a prototype allow for the definition of a method associated with the function</mark> , the \"Person.prototype.toJSON\" allows the collection of data to be expressed in a json/string versus JavaScript object.\n",
    "- <mark>Instance of a function</mark>, the \"var teacher = new Person(\"Mr M\", \"jm1021\", 1977)\" line makes a variable \"teacher\" which is an object representation of \"function Person\"."
   ]
  }
 ],
 "metadata": {
  "kernelspec": {
   "display_name": "Python 3.8.10 64-bit",
   "language": "python",
   "name": "python3"
  },
  "language_info": {
   "name": "python",
   "version": "3.8.10"
  },
  "orig_nbformat": 4,
  "vscode": {
   "interpreter": {
    "hash": "916dbcbb3f70747c44a77c7bcd40155683ae19c65e1c03b4aa3499c5328201f1"
   }
  }
 },
 "nbformat": 4,
 "nbformat_minor": 2
}
