{
 "cells": [
  {
   "cell_type": "markdown",
   "metadata": {},
   "source": [
    "# Starting Program Design and App Lab Developments\n",
    "> My starting journey with Javascript, Block Coding in Code.org, and developing quizzes in AppLab.\n",
    "\n",
    "- title: Starting Program Design and App Lab Developments\n",
    "- toc: true\n",
    "- categories: [TechTalk]\n",
    "- tags: [java]"
   ]
  },
  {
   "cell_type": "markdown",
   "metadata": {},
   "source": [
    "## Ideation and Planning\n",
    "To build a functional and interactive quiz, I needed a good topic and questions. I decided on a topic of <mark>Mountains and Mountain Ranges</mark> and wrote the following three questions with answer choices:\n",
    "\n",
    "What is the tallest mountain in the World? \n",
    "Answer Choices: <mark>Mt. Everest</mark>, Mt. K2, Mt. Fiji, Mt. Kilimanjaro.\n",
    "\n",
    "How many main mountain ranges exist in America? \n",
    "Answer Choices: One, Two, <mark>Three</mark>, Four\n",
    "\n",
    "What is the World Record altitude for a human mountaineer? \n",
    "Answer Choices: <mark>29,029 Feet</mark>, 26,545 Feet, 28,750 Feet, 24,075 Feet\n"
   ]
  },
  {
   "cell_type": "markdown",
   "metadata": {},
   "source": [
    "## Successes and Failures"
   ]
  }
 ],
 "metadata": {
  "kernelspec": {
   "display_name": "Python 3.8.10 64-bit",
   "language": "python",
   "name": "python3"
  },
  "language_info": {
   "name": "python",
   "version": "3.8.10"
  },
  "orig_nbformat": 4,
  "vscode": {
   "interpreter": {
    "hash": "916dbcbb3f70747c44a77c7bcd40155683ae19c65e1c03b4aa3499c5328201f1"
   }
  }
 },
 "nbformat": 4,
 "nbformat_minor": 2
}
