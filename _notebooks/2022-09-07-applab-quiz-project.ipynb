{
 "cells": [
  {
   "cell_type": "markdown",
   "metadata": {},
   "source": [
    "# Starting Program Design and App Lab Developments\n",
    "> My starting journey with Javascript, Block Coding in Code.org, and developing quizzes in AppLab.\n",
    "\n",
    "- title: Starting Program Design and App Lab Developments\n",
    "- toc: true\n",
    "- categories: [TechTalk]\n",
    "- tags: [java]"
   ]
  },
  {
   "cell_type": "markdown",
   "metadata": {},
   "source": [
    "## Ideation and Planning\n",
    "To build a functional and interactive quiz, I needed a good topic and questions. I decided on a topic of <mark>Mountains and Mountain Ranges</mark> and wrote the following three questions with answer choices:\n",
    "\n",
    "What is the tallest mountain in the World? \n",
    "Answer Choices: <mark>Mt. Everest</mark>, Mt. K2, Mt. Fiji, Mt. Kilimanjaro.\n",
    "\n",
    "How many main mountain ranges exist in America? \n",
    "Answer Choices: One, Two, <mark>Three</mark>, Four\n",
    "\n",
    "What is the World Record altitude for a human mountaineer? \n",
    "Answer Choices: <mark>29,029 Feet</mark>, 26,545 Feet, 28,750 Feet, 24,075 Feet\n",
    "\n",
    "\n",
    "\n",
    "I then got to designing the actual quiz on AppLab. Here's an image of my initial Javascript code, where I used the most basic functions:\n",
    "\n",
    "![Screenshot 2022-09-12 120308](https://user-images.githubusercontent.com/51098969/189735176-ca679cca-3a93-4aa4-be5a-bd115cba3db4.jpg)\n"
   ]
  },
  {
   "cell_type": "markdown",
   "metadata": {},
   "source": [
    "## Link to my Project!\n",
    "[**Mountains Quiz**](https://studio.code.org/projects/applab/xCtPqsLzOoDWN_nikjjP9XUWgQ6RJwdWeyYsvJx3TMg)"
   ]
  },
  {
   "cell_type": "markdown",
   "metadata": {},
   "source": [
    "## Successes and Failures\n",
    "The whole process went relatively smoothly, with the code and design segments being very straightforward to use. I like the Code.org software and how I can seamlessly switch between blocks and actual code to learn Javascript better.\n",
    "\n",
    "Some setbacks did happen during the process, I initially had some difficulty finding the right code to make up the quiz functions, but eventually I found my solutions with the <mark>\"switch screen\"</mark> function. Time management was also an issue, but I managed to finish the quiz and planning by the due date."
   ]
  }
 ],
 "metadata": {
  "kernelspec": {
   "display_name": "Python 3.8.10 64-bit",
   "language": "python",
   "name": "python3"
  },
  "language_info": {
   "name": "python",
   "version": "3.8.10"
  },
  "orig_nbformat": 4,
  "vscode": {
   "interpreter": {
    "hash": "916dbcbb3f70747c44a77c7bcd40155683ae19c65e1c03b4aa3499c5328201f1"
   }
  }
 },
 "nbformat": 4,
 "nbformat_minor": 2
}
