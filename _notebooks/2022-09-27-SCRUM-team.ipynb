{
 "cells": [
  {
   "cell_type": "markdown",
   "metadata": {},
   "source": [
    "# Scrum Team Outline\n",
    "\n",
    "- toc: false \n",
    "- badges: true\n",
    "- comments: true\n",
    "- categories: [jupyter]"
   ]
  },
  {
   "cell_type": "markdown",
   "metadata": {},
   "source": [
    "## Project Purpose + Plan\n",
    "Our team's current plan is to use a search bar feature alongside a growing dictionary of basketball teams. You could input the name of your favorite team, and the program will redirect the user to a displayed page of their team's statistics images and most valuable players."
   ]
  },
  {
   "cell_type": "markdown",
   "metadata": {},
   "source": [
    "## Scrum Team Roles\n",
    "My team and I decided on the following roles:\n",
    "\n",
    "- Jeffrey: Scrum Master\n",
    "- Luke: DevOps\n",
    "- Ethan: Frontend Developer\n",
    "- James: Backend Developer\n",
    "\n",
    "As SCRUM master, I will make sure my team is always on task and meetings the deadlines set by Mr. M. I will oversee general development and help out on all aspects of our project where needed. We intend to use HTML/CSS/JS for our frontend and Python on the backend. The DevOps pipeline will be powered by GitHub Actions + some hosting provider (AWS)."
   ]
  },
  {
   "cell_type": "markdown",
   "metadata": {},
   "source": [
    "Here is a brief poster that my team and I created together to go over the SCRUM process in detail! \n",
    "![Screenshot 2022-09-27 015414](https://user-images.githubusercontent.com/51098969/192481811-77c00bcc-5645-4028-af80-313d86cbd912.jpg)\n"
   ]
  }
 ],
 "metadata": {
  "kernelspec": {
   "display_name": "Python 3.8.10 64-bit",
   "language": "python",
   "name": "python3"
  },
  "language_info": {
   "name": "python",
   "version": "3.8.10"
  },
  "orig_nbformat": 4,
  "vscode": {
   "interpreter": {
    "hash": "916dbcbb3f70747c44a77c7bcd40155683ae19c65e1c03b4aa3499c5328201f1"
   }
  }
 },
 "nbformat": 4,
 "nbformat_minor": 2
}
