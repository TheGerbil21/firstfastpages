{
 "cells": [
  {
   "cell_type": "markdown",
   "metadata": {},
   "source": [
    "# 1.1 Collaboration College Board Videos 1 and 2 Notes\n",
    "My notes for Big Idea 1 - Collaboration\n",
    "\n",
    "- toc: true\n",
    "- categories: [TechTalk]\n",
    "- permalink: /collegeboard/python_lists\n",
    "- categories: [TechTalk]\n",
    "- tags: [python]"
   ]
  },
  {
   "cell_type": "markdown",
   "metadata": {},
   "source": [
    "## Video 1 Notes\n",
    "### Essential Knowledge:\n",
    "- a computing innovation includes a program\n",
    "  - can be physical, nonphysical computing software, or nonphysical computing concept\n",
    "- collaboration = produces a computing innovation. also reflects diversity, talents, and perspectives of designers. diversity avoids bias.\n",
    "- practice interpersonal skills: communication, consensus building, conflict resolution, negotiation"
   ]
  },
  {
   "cell_type": "markdown",
   "metadata": {},
   "source": [
    "## Video 2 Notes\n",
    "### Essential Knowledge:\n",
    "- consultation + communication with users = important for developing computing innovations\n",
    "- info gathered can help understand purpose of a program from different perspectives and uses the perspectives\n",
    "- online tools support collaboration, help to share feedback\n",
    "- common models - pair programming"
   ]
  },
  {
   "cell_type": "markdown",
   "metadata": {},
   "source": [
    "## Collaboration Quiz, Score, and Proof of Completion\n",
    "\n",
    "![Screenshot 2022-10-04 002154](https://user-images.githubusercontent.com/51098969/193759016-e3d7812a-2e80-4b69-98a2-e68936e3f637.jpg)"
   ]
  }
 ],
 "metadata": {
  "kernelspec": {
   "display_name": "Python 3.8.10 64-bit",
   "language": "python",
   "name": "python3"
  },
  "language_info": {
   "name": "python",
   "version": "3.8.10"
  },
  "orig_nbformat": 4,
  "vscode": {
   "interpreter": {
    "hash": "916dbcbb3f70747c44a77c7bcd40155683ae19c65e1c03b4aa3499c5328201f1"
   }
  }
 },
 "nbformat": 4,
 "nbformat_minor": 2
}
