{
 "cells": [
  {
   "cell_type": "markdown",
   "metadata": {},
   "source": [
    "# 1.2 Collaboration College Board Videos 1, 2, and 3 Notes\n",
    "My notes for Big Idea 1 - Program Function and Purpose\n",
    "\n",
    "- toc: true\n",
    "- categories: [TechTalk]\n",
    "- categories: [TechTalk]\n",
    "- tags: [python]"
   ]
  },
  {
   "cell_type": "markdown",
   "metadata": {},
   "source": [
    "## Video 1 Notes\n",
    "### Essential Knowledge:\n",
    "- purpose of computing innovations: to solve problems or pursue interests thru creative expression\n",
    "- an understanding of the purpose of a computing innovation provides developers with an improved ability to develop innovation\n",
    "- Guiding questions:\n",
    "  - why does the computing innovation exist?\n",
    "  - what problems does the computing innovation solve?\n",
    "  - what does the computing innovation allow us to do that we could not do before?\n",
    "- investigating examples:\n",
    "  - social media applications\n",
    "    - allows users to connect from a distance and archive activities\n",
    "  - E-commerce\n",
    "    - allows users to save time and money by being able to shop from home\n",
    "  - digital assistant device\n",
    "    - allows users to control their devices hands-free, making them safer while driving or more convenient when multi-tasking"
   ]
  },
  {
   "cell_type": "markdown",
   "metadata": {},
   "source": [
    "## Video 2 Notes\n",
    "### Essential Knowledge:\n",
    "- program inputs are data sent to a computer for processing by a program. input forms: tactile, audio, visual, or text\n",
    "- an event is associated with an action and supplies input data to a program\n",
    "- events can be generated when a key is pressed, a mouse is clicked, a program is started, or any other defined action occurs that affects the flow of execution\n",
    "- inputs usually affect the output produced by a program\n",
    "- in event-driven programming, program statements are executed when triggered rather than through the sequential flow of control\n",
    "input can come from a user or other programs\n",
    "- program outputs are any data sent from a program to a device. program output can come in a variety of forms, such as tactile, audio, visual, or text\n",
    "\n",
    "- input:\n",
    "  - tactile (touch)\n",
    "  - audio\n",
    "  - visual\n",
    "  - text (including numerical values)\n",
    "- what does input accomplish:\n",
    "  - affects the output. what outputs are produced by a device?\n",
    "  - visual\n",
    "  - audio\n",
    "  - tactile (touch/feel)\n",
    "  - text\n",
    "- an action triggers an event:\n",
    "  - action may be initiated by the user or other program/device\n",
    "  - program jumps to code segment according to event\n",
    "    - code is executed\n",
    "    - output or additional events are triggered\n",
    "    - executed as called"
   ]
  },
  {
   "cell_type": "markdown",
   "metadata": {},
   "source": [
    "## Video 3 Notes\n",
    "### Essential Knowledge:\n",
    "- A program is a collection of program statements that performs a specific task when run by a computer. a program is often referred to as software.\n",
    "- a code segment is a collection of program statements that is part of a program\n",
    "- a program needs to work for a variety of inputs and situations\n",
    "- the behavior of a program is how a program functions during execution and is often described by how a user interacts with it\n",
    "- a program can be described broadly by what it does, or in more detail by both what the program does and how the program statements accomplish this function\n",
    "- a program: a collection of statements\n",
    "  - statement: a single command\n",
    "  - code segment: group of statements\n",
    "    - executed according to the rules ofo the programming language\n",
    "  - a program = software\n",
    "- how to describe a code segment:\n",
    "  - state what is does, simply\n",
    "    - so that someone could use the code segment in a larger program\n",
    "  - or include how it does what it does:\n",
    "    - explain how the code segment functions\n",
    "    - so that someone can expand upon the code segment"
   ]
  },
  {
   "cell_type": "markdown",
   "metadata": {},
   "source": [
    "## Program Function and Purpose Quiz, Score, and Proof of Completion\n",
    "\n",
    "![Screenshot 2022-10-04 003334](https://user-images.githubusercontent.com/51098969/193761195-519c8a37-ba2b-4878-b9e0-b52afd03a41b.jpg)"
   ]
  }
 ],
 "metadata": {
  "kernelspec": {
   "display_name": "Python 3.8.10 64-bit",
   "language": "python",
   "name": "python3"
  },
  "language_info": {
   "name": "python",
   "version": "3.8.10"
  },
  "orig_nbformat": 4,
  "vscode": {
   "interpreter": {
    "hash": "916dbcbb3f70747c44a77c7bcd40155683ae19c65e1c03b4aa3499c5328201f1"
   }
  }
 },
 "nbformat": 4,
 "nbformat_minor": 2
}
