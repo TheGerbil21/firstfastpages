{
 "cells": [
  {
   "cell_type": "markdown",
   "metadata": {},
   "source": [
    "# 1.3 Collaboration College Board Videos 1, 2, and 3 Notes\n",
    "My notes for Big Idea 1 - Program Design and Development\n",
    "\n",
    "- toc: true\n",
    "- categories: [TechTalk]\n",
    "- categories: [TechTalk]\n",
    "- tags: [python]"
   ]
  },
  {
   "cell_type": "markdown",
   "metadata": {},
   "source": [
    "## Video 1 Notes\n",
    "### Essential Knowledge:\n",
    "- dev process: ordered + intentional or exploratory\n",
    "  - investigating and reflecting\n",
    "  - designing\n",
    "  - prototyping\n",
    "  - testing\n",
    "- dev process requires revision based on testing and experience\n",
    "  - breaks down the steps before adding it to the whole\n",
    "  - adds investigation to determine requirements\n",
    "- program requirements describe how a program functions and many include a description of user interactions\n",
    "- in a dev process, the design phase outlines how to accomplish a given specification\n",
    "- design phase:\n",
    "  - starts with an idea\n",
    "  - dev with purpose\n",
    "- start investigating the problem/purpose and reflect\n",
    "- determine requirements\n",
    "- understand constraints\n",
    "- investigation\n",
    "- design the program\n",
    "  - story boarding\n",
    "  - planning user experience\n",
    "  - organizing into modules\n",
    "  - develop a testing strategy\n",
    "- decide on program requirements: highlight them in the program specifications\n",
    "- create a prototype\n",
    "- testing (micro level and macro level)\n",
    "- refine"
   ]
  },
  {
   "cell_type": "markdown",
   "metadata": {},
   "source": [
    "## Video 2 Notes\n",
    "### Essential Knowledge:\n",
    "- acknowledge code segments used by another source or developed collaboratively\n",
    "- do this in the program documentation: include origin or original author’s name\n",
    "- programs are usually developed by teams of people\n",
    "- individuals work on different functional components\n",
    "- each member deserves to receive credit for work in the documentation (list names)\n",
    "- comments with names giving credit"
   ]
  },
  {
   "cell_type": "markdown",
   "metadata": {},
   "source": [
    "## Video 3 Notes\n",
    "### Essential Knowledge:\n",
    "- program documentation: written description of function of code segment, event, procedure, or program, and how it was developed\n",
    "- comments = form of documentation\n",
    "- document throughout development\n",
    "- some environments don’t support comments\n",
    "- program documentation\n",
    "  - describe overall program\n",
    "  - list specifications\n",
    "- document:\n",
    "  - in the beginning\n",
    "  - during: to keep track of process\n",
    "  - after: to explain the overall process\n",
    "- documentation can improve:\n",
    "  - efficiency\n",
    "  - programmers’ ability to test + refine the program\n",
    "  - programmers’ response to bugs\n",
    "  - comments can be useful when programmers work collaboratively\n",
    "- Examples of comments\n",
    "  - python: on lines that follow the hashtag symbol\n",
    "  - java: single line comments appear after // and /* is for multiple line comments and /** documentation comments, end with another forward slash"
   ]
  },
  {
   "cell_type": "markdown",
   "metadata": {},
   "source": [
    "## Program Design and Development Quiz, Score, and Proof of Completion\n",
    "\n",
    "![Screenshot 2022-10-04 005232](https://user-images.githubusercontent.com/51098969/193764871-3c1749cd-62e7-4c31-8af5-00d5f29b519f.jpg)"
   ]
  }
 ],
 "metadata": {
  "kernelspec": {
   "display_name": "Python 3.8.10 64-bit",
   "language": "python",
   "name": "python3"
  },
  "language_info": {
   "name": "python",
   "version": "3.8.10"
  },
  "orig_nbformat": 4,
  "vscode": {
   "interpreter": {
    "hash": "916dbcbb3f70747c44a77c7bcd40155683ae19c65e1c03b4aa3499c5328201f1"
   }
  }
 },
 "nbformat": 4,
 "nbformat_minor": 2
}
