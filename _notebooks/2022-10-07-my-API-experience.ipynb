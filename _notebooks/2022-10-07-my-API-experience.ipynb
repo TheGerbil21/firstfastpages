{
 "cells": [
  {
   "cell_type": "markdown",
   "metadata": {},
   "source": [
    "# My API Experience\n",
    "\n",
    "After leaning about Rapid API and data pools, I found an API and experimented with possible features.\n",
    "\n",
    "- toc: true\n",
    "- categories: [TechTalk]\n",
    "- permalink: /collegeboard/python_lists\n",
    "- categories: [TechTalk]\n",
    "- tags: [python]"
   ]
  },
  {
   "cell_type": "markdown",
   "metadata": {},
   "source": [
    "## The Weather API: By Zip Code\n",
    "I found an amazing API on the RapidAPI platform that houses data for weather details and conditions by ZIP code. By changing the inputs, I can display ZIP code specific data and format specific points that I want to show off, including temperature and weather description."
   ]
  },
  {
   "cell_type": "markdown",
   "metadata": {},
   "source": [
    "First Display: \"Messy Data\" showing weather status in 92127, my ZIP code."
   ]
  },
  {
   "cell_type": "code",
   "execution_count": 5,
   "metadata": {},
   "outputs": [
    {
     "name": "stdout",
     "output_type": "stream",
     "text": [
      "{\"City\":\"San Diego\",\"State\":\"CA\",\"TempF\":\"73.0\",\"TempC\":\"22.8\",\"Weather\":\"A Few Clouds\",\"WindMPH\":\"5.8\",\"WindDir\":\"West\",\"RelativeHumidity\":\"71\",\"VisibilityMiles\":\"10.00\",\"AirQualityIndex\":\"119\",\"AirQualityCode\":\"3\",\"AirQuality\":\"Unhealthy for Sensitive Groups\",\"Sunrise\":\"06:46\",\"Sunset\":\"18:25\",\"DaylightHours\":\"11\",\"DaylightMinutes\":\"39\",\"Code\":\"Success\",\"Credits\":\"499601844\"}\n",
      "\n"
     ]
    }
   ],
   "source": [
    "import requests\n",
    "\n",
    "url = \"https://us-weather-by-zip-code.p.rapidapi.com/getweatherzipcode\"\n",
    "\n",
    "querystring = {\"zip\":\"92127\"}\n",
    "\n",
    "headers = {\n",
    "\t\"X-RapidAPI-Key\": \"24a738dc44msh1340883298de7f6p133977jsnb8399f963780\",\n",
    "\t\"X-RapidAPI-Host\": \"us-weather-by-zip-code.p.rapidapi.com\"\n",
    "}\n",
    "\n",
    "response = requests.request(\"GET\", url, headers=headers, params=querystring)\n",
    "\n",
    "print(response.text)"
   ]
  },
  {
   "cell_type": "markdown",
   "metadata": {},
   "source": [
    "Second Display:"
   ]
  },
  {
   "cell_type": "code",
   "execution_count": 24,
   "metadata": {},
   "outputs": [
    {
     "name": "stdout",
     "output_type": "stream",
     "text": [
      "Temperature (Fahrenheit):\n"
     ]
    },
    {
     "ename": "AttributeError",
     "evalue": "'str' object has no attribute 'items'",
     "output_type": "error",
     "traceback": [
      "\u001b[0;31m---------------------------------------------------------------------------\u001b[0m",
      "\u001b[0;31mAttributeError\u001b[0m                            Traceback (most recent call last)",
      "\u001b[1;32m/home/jeffrey/vscode/firstfastpages/_notebooks/2022-10-07-my-API-experience.ipynb Cell 6\u001b[0m in \u001b[0;36m<cell line: 14>\u001b[0;34m()\u001b[0m\n\u001b[1;32m     <a href='vscode-notebook-cell://wsl%2Bubuntu/home/jeffrey/vscode/firstfastpages/_notebooks/2022-10-07-my-API-experience.ipynb#W5sdnNjb2RlLXJlbW90ZQ%3D%3D?line=11'>12</a>\u001b[0m \u001b[39mprint\u001b[39m(\u001b[39m\"\u001b[39m\u001b[39mTemperature (Fahrenheit):\u001b[39m\u001b[39m\"\u001b[39m)\n\u001b[1;32m     <a href='vscode-notebook-cell://wsl%2Bubuntu/home/jeffrey/vscode/firstfastpages/_notebooks/2022-10-07-my-API-experience.ipynb#W5sdnNjb2RlLXJlbW90ZQ%3D%3D?line=12'>13</a>\u001b[0m TempF \u001b[39m=\u001b[39m response\u001b[39m.\u001b[39mjson()\u001b[39m.\u001b[39mget(\u001b[39m'\u001b[39m\u001b[39mTempF\u001b[39m\u001b[39m'\u001b[39m)\n\u001b[0;32m---> <a href='vscode-notebook-cell://wsl%2Bubuntu/home/jeffrey/vscode/firstfastpages/_notebooks/2022-10-07-my-API-experience.ipynb#W5sdnNjb2RlLXJlbW90ZQ%3D%3D?line=13'>14</a>\u001b[0m \u001b[39mfor\u001b[39;00m key, value \u001b[39min\u001b[39;00m TempF\u001b[39m.\u001b[39;49mitems():  \n\u001b[1;32m     <a href='vscode-notebook-cell://wsl%2Bubuntu/home/jeffrey/vscode/firstfastpages/_notebooks/2022-10-07-my-API-experience.ipynb#W5sdnNjb2RlLXJlbW90ZQ%3D%3D?line=14'>15</a>\u001b[0m     \u001b[39mprint\u001b[39m(key, value)\n\u001b[1;32m     <a href='vscode-notebook-cell://wsl%2Bubuntu/home/jeffrey/vscode/firstfastpages/_notebooks/2022-10-07-my-API-experience.ipynb#W5sdnNjb2RlLXJlbW90ZQ%3D%3D?line=16'>17</a>\u001b[0m \u001b[39mprint\u001b[39m()\n",
      "\u001b[0;31mAttributeError\u001b[0m: 'str' object has no attribute 'items'"
     ]
    }
   ],
   "source": [
    "import requests\n",
    "\n",
    "url = \"https://us-weather-by-zip-code.p.rapidapi.com/getweatherzipcode\"\n",
    "\n",
    "headers = {\n",
    "\t\"X-RapidAPI-Key\": \"24a738dc44msh1340883298de7f6p133977jsnb8399f963780\",\n",
    "\t\"X-RapidAPI-Host\": \"us-weather-by-zip-code.p.rapidapi.com\"\n",
    "}\n",
    "\n",
    "response = requests.request(\"GET\", url, headers=headers, params=querystring)\n",
    "\n",
    "print(\"Temperature (Fahrenheit):\")\n",
    "TempF = response.json().get('TempF')\n",
    "for key, value in TempF.items():  \n",
    "    print(key, value)\n",
    "\n",
    "print()"
   ]
  }
 ],
 "metadata": {
  "kernelspec": {
   "display_name": "Python 3.8.10 64-bit",
   "language": "python",
   "name": "python3"
  },
  "language_info": {
   "codemirror_mode": {
    "name": "ipython",
    "version": 3
   },
   "file_extension": ".py",
   "mimetype": "text/x-python",
   "name": "python",
   "nbconvert_exporter": "python",
   "pygments_lexer": "ipython3",
   "version": "3.8.10"
  },
  "orig_nbformat": 4,
  "vscode": {
   "interpreter": {
    "hash": "916dbcbb3f70747c44a77c7bcd40155683ae19c65e1c03b4aa3499c5328201f1"
   }
  }
 },
 "nbformat": 4,
 "nbformat_minor": 2
}
