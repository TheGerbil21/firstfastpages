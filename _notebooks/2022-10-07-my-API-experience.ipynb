{
 "cells": [
  {
   "cell_type": "markdown",
   "metadata": {},
   "source": [
    "# My API Experience\n",
    "\n",
    "After leaning about Rapid API and data pools, I found an API and experimented with possible features.\n",
    "\n",
    "- toc: true\n",
    "- categories: [TechTalk]\n",
    "- categories: [TechTalk]\n",
    "- tags: [jupyter, python, tri1, concept]"
   ]
  },
  {
   "cell_type": "markdown",
   "metadata": {},
   "source": [
    "## The Weather API: By Zip Code\n",
    "I found an amazing API on the RapidAPI platform that houses data for weather details and conditions by ZIP code. By changing the inputs, I can display ZIP code specific data and change the city information displayed immediately, including up-to-date temperatures and weather description."
   ]
  },
  {
   "cell_type": "code",
   "execution_count": 1,
   "metadata": {},
   "outputs": [
    {
     "name": "stdout",
     "output_type": "stream",
     "text": [
      "{\"City\":\"San Diego\",\"State\":\"CA\",\"TempF\":\"69.0\",\"TempC\":\"20.6\",\"Weather\":\"Overcast\",\"WindMPH\":\"4.6\",\"WindDir\":\"West\",\"RelativeHumidity\":\"68\",\"VisibilityMiles\":\"10.00\",\"AirQualityIndex\":\"84\",\"AirQualityCode\":\"2\",\"AirQuality\":\"Moderate\",\"Sunrise\":\"06:49\",\"Sunset\":\"18:20\",\"DaylightHours\":\"11\",\"DaylightMinutes\":\"31\",\"Code\":\"Success\",\"Credits\":\"499601737\"}\n",
      "\n"
     ]
    }
   ],
   "source": [
    "import requests\n",
    "\n",
    "url = \"https://us-weather-by-zip-code.p.rapidapi.com/getweatherzipcode\"\n",
    "\n",
    "querystring = {\"zip\":\"92127\"}\n",
    "\n",
    "headers = {\n",
    "\t\"X-RapidAPI-Key\": \"24a738dc44msh1340883298de7f6p133977jsnb8399f963780\",\n",
    "\t\"X-RapidAPI-Host\": \"us-weather-by-zip-code.p.rapidapi.com\"\n",
    "}\n",
    "\n",
    "response = requests.request(\"GET\", url, headers=headers, params=querystring)\n",
    "\n",
    "print(response.text)"
   ]
  },
  {
   "cell_type": "code",
   "execution_count": 2,
   "metadata": {},
   "outputs": [
    {
     "name": "stdout",
     "output_type": "stream",
     "text": [
      "{\"City\":\"San Francisco\",\"State\":\"CA\",\"TempF\":\"57.0\",\"TempC\":\"13.9\",\"Weather\":\"Overcast\",\"WindMPH\":\"0.0\",\"WindDir\":\"North\",\"RelativeHumidity\":\"87\",\"VisibilityMiles\":\"10.00\",\"AirQualityIndex\":\"84\",\"AirQualityCode\":\"2\",\"AirQuality\":\"Moderate\",\"Sunrise\":\"07:14\",\"Sunset\":\"18:38\",\"DaylightHours\":\"11\",\"DaylightMinutes\":\"24\",\"Code\":\"Success\",\"Credits\":\"499601736\"}\n",
      "\n"
     ]
    }
   ],
   "source": [
    "import requests\n",
    "\n",
    "url = \"https://us-weather-by-zip-code.p.rapidapi.com/getweatherzipcode\"\n",
    "\n",
    "querystring = {\"zip\":\"94114\"}\n",
    "\n",
    "headers = {\n",
    "\t\"X-RapidAPI-Key\": \"24a738dc44msh1340883298de7f6p133977jsnb8399f963780\",\n",
    "\t\"X-RapidAPI-Host\": \"us-weather-by-zip-code.p.rapidapi.com\"\n",
    "}\n",
    "\n",
    "response = requests.request(\"GET\", url, headers=headers, params=querystring)\n",
    "\n",
    "print(response.text)"
   ]
  }
 ],
 "metadata": {
  "kernelspec": {
   "display_name": "Python 3.8.10 64-bit",
   "language": "python",
   "name": "python3"
  },
  "language_info": {
   "codemirror_mode": {
    "name": "ipython",
    "version": 3
   },
   "file_extension": ".py",
   "mimetype": "text/x-python",
   "name": "python",
   "nbconvert_exporter": "python",
   "pygments_lexer": "ipython3",
   "version": "3.8.10"
  },
  "orig_nbformat": 4,
  "vscode": {
   "interpreter": {
    "hash": "916dbcbb3f70747c44a77c7bcd40155683ae19c65e1c03b4aa3499c5328201f1"
   }
  }
 },
 "nbformat": 4,
 "nbformat_minor": 2
}
