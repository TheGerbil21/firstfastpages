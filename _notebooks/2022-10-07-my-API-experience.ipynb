{
 "cells": [
  {
   "cell_type": "markdown",
   "metadata": {},
   "source": [
    "# My API Experience\n",
    "\n",
    "After leaning about Rapid API and data pools, I found an API and experimented with possible features.\n",
    "\n",
    "- toc: true\n",
    "- categories: [TechTalk]\n",
    "- permalink: /collegeboard/python_lists\n",
    "- categories: [TechTalk]\n",
    "- tags: [python]"
   ]
  },
  {
   "cell_type": "markdown",
   "metadata": {},
   "source": [
    "## The Weather API: By Zip Code\n",
    "I found an amazing API on the RapidAPI platform that houses data for weather details and conditions by ZIP code. By changing the inputs, I can display ZIP code specific data and format specific points that I want to show off, including temperature and weather description."
   ]
  },
  {
   "cell_type": "code",
   "execution_count": 1,
   "metadata": {},
   "outputs": [
    {
     "name": "stdout",
     "output_type": "stream",
     "text": [
      "{\"City\":\"San Diego\",\"State\":\"CA\",\"TempF\":\"71.0\",\"TempC\":\"21.7\",\"Weather\":\"Mostly Cloudy\",\"WindMPH\":\"3.5\",\"WindDir\":\"Variable\",\"RelativeHumidity\":\"68\",\"VisibilityMiles\":\"10.00\",\"AirQualityIndex\":\"70\",\"AirQualityCode\":\"2\",\"AirQuality\":\"Moderate\",\"Sunrise\":\"06:48\",\"Sunset\":\"18:21\",\"DaylightHours\":\"11\",\"DaylightMinutes\":\"33\",\"Code\":\"Success\",\"Credits\":\"499601777\"}\n",
      "\n"
     ]
    }
   ],
   "source": [
    "import requests\n",
    "\n",
    "url = \"https://us-weather-by-zip-code.p.rapidapi.com/getweatherzipcode\"\n",
    "\n",
    "querystring = {\"zip\":\"92127\"}\n",
    "\n",
    "headers = {\n",
    "\t\"X-RapidAPI-Key\": \"24a738dc44msh1340883298de7f6p133977jsnb8399f963780\",\n",
    "\t\"X-RapidAPI-Host\": \"us-weather-by-zip-code.p.rapidapi.com\"\n",
    "}\n",
    "\n",
    "response = requests.request(\"GET\", url, headers=headers, params=querystring)\n",
    "\n",
    "print(response.text)"
   ]
  }
 ],
 "metadata": {
  "kernelspec": {
   "display_name": "Python 3.8.10 64-bit",
   "language": "python",
   "name": "python3"
  },
  "language_info": {
   "codemirror_mode": {
    "name": "ipython",
    "version": 3
   },
   "file_extension": ".py",
   "mimetype": "text/x-python",
   "name": "python",
   "nbconvert_exporter": "python",
   "pygments_lexer": "ipython3",
   "version": "3.8.10"
  },
  "orig_nbformat": 4,
  "vscode": {
   "interpreter": {
    "hash": "916dbcbb3f70747c44a77c7bcd40155683ae19c65e1c03b4aa3499c5328201f1"
   }
  }
 },
 "nbformat": 4,
 "nbformat_minor": 2
}
