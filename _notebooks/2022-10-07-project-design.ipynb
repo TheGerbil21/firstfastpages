{
 "cells": [
  {
   "cell_type": "markdown",
   "metadata": {},
   "source": [
    "# Project Design Proposal\n",
    "My team's plan for our group project in AP Computer Science Principles.\n",
    "\n",
    "- toc: true\n",
    "- categories: [TechTalk]\n",
    "- categories: [TechTalk]\n",
    "- tags: [jupyter, python, tri1, human_prep]"
   ]
  },
  {
   "cell_type": "markdown",
   "metadata": {},
   "source": [
    "## Project Purpose + Plan\n",
    "Our team's current plan is to use a search bar feature alongside a growing dictionary of basketball teams. You could input the name of your favorite team, and the program will redirect the user to a displayed page of their team's statistics, images, and most valuable players."
   ]
  },
  {
   "cell_type": "markdown",
   "metadata": {},
   "source": [
    "## College Board Criteria\n",
    "\n",
    "### 1. Program Purpose and Function\n",
    "- The purpose has already been defined: to create a search engine for data display of basketball teams in the NBA.\n",
    "- Our members will understand the individual code segments that make up the frontend and backend, working together to clear any issues and creating a working program.\n",
    "- Both input and output should be intuitive to the group and the users. \n",
    "\n",
    "### 2. Data Abstraction\n",
    "- We will be demonstrating how data is stored in a list or dictionary of each of the basketball teams in the NBA. Possible use of an API can help store and display data easier. Output will be displayed in a separate page through a table.\n",
    "- Example: Celtics = [“1st NBA Team Formed”, “17 NBA Titles”, “Stadium: TD Garden”]\n",
    "\n",
    "### 3. Managing Complexity\n",
    "- Because we are using lists, dictionaries, and tables to display team statistics, it is not necessary to write if/else statements for each data point, though a loop command or whileloop command may help for iteration when storing data. \n",
    "- Multiple functions may have to be written for individual teams, or an API could be used to fetch data if possible.\n",
    "\n",
    "### 4. Procedural Abstraction\n",
    "- An algorithm will be used to detect an incorrect user input, i.e. a spelling error in the search feature. \n",
    "- For example, def team_input if Team = TeamList print(“Team Name, Titles Won, Stadium”) else print(“Please input team”)\n",
    "\n",
    "### 5. Algorithm Implementation\n",
    "- The algorithm will be based on their choice of NBA team. Different points of data will be chosen based on the users input, and the option to include other assets like fun facts and images on top of the iterated data will need mre backend development.\n",
    " \n",
    "### 6. Testing\n",
    "- Testing will be performed frequently, and the final product will be completed with a brief explanation and video."
   ]
  }
 ],
 "metadata": {
  "kernelspec": {
   "display_name": "Python 3.8.10 64-bit",
   "language": "python",
   "name": "python3"
  },
  "language_info": {
   "name": "python",
   "version": "3.8.10"
  },
  "orig_nbformat": 4,
  "vscode": {
   "interpreter": {
    "hash": "916dbcbb3f70747c44a77c7bcd40155683ae19c65e1c03b4aa3499c5328201f1"
   }
  }
 },
 "nbformat": 4,
 "nbformat_minor": 2
}
