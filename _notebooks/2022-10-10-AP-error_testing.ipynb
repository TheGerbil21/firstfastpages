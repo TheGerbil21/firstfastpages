{
 "cells": [
  {
   "cell_type": "markdown",
   "metadata": {},
   "source": [
    "# Big Idea 1 'Identifying and Correcting Errors'\n",
    "> Practice with identifying and correcting code blocks\n",
    "\n",
    "- layout: default\n",
    "- badges: false\n",
    "- permalink: /collegeboard/error\n",
    "- categories: [1.B, 4.C]\n",
    "- type: ap\n",
    "- week: 7"
   ]
  },
  {
   "cell_type": "markdown",
   "metadata": {},
   "source": [
    "[College Board Big Idea 1](https://apclassroom.collegeboard.org/103/home?unit=1)\n",
    "\n",
    "## Identifying and Correcting Errors (Unit 1.4)\n",
    "> Become familiar with types of errors and strategies to fixing them\n",
    "- Lightly Review Videos and take notes on topics with Blog\n",
    "- Complete assigned MCQ questions"
   ]
  },
  {
   "cell_type": "markdown",
   "metadata": {},
   "source": [
    "# Here are some code segments you can practice fixing:"
   ]
  },
  {
   "cell_type": "code",
   "execution_count": 1,
   "metadata": {},
   "outputs": [
    {
     "name": "stdout",
     "output_type": "stream",
     "text": [
      "['a', 'b', 'c', 'd', 'e', 'f', 'g', 'h', 'i', 'j', 'k', 'l', 'm', 'n', 'o', 'p', 'q', 'r', 's', 't', 'u', 'v', 'w', 'x', 'y', 'z']\n"
     ]
    }
   ],
   "source": [
    "#Create a list of the alphabet\n",
    "\n",
    "alphabet = \"abcdefghijklmnopqrstuvwxyz\"\n",
    "\n",
    "alphabetList = []\n",
    "\n",
    "for i in alphabet:\n",
    "    alphabetList.append(i)\n",
    "\n",
    "print(alphabetList)"
   ]
  },
  {
   "cell_type": "markdown",
   "metadata": {},
   "source": [
    "The intended outcome is to determine where the letter is in the alphabet using a while loop\n",
    "- What is a good test case to check the current outcome? Why?\n",
    "- Make changes to get the intended outcome."
   ]
  },
  {
   "cell_type": "code",
   "execution_count": 18,
   "metadata": {},
   "outputs": [
    {
     "name": "stdout",
     "output_type": "stream",
     "text": [
      "The letter a is the 0 letter in the alphabet\n"
     ]
    }
   ],
   "source": [
    "\n",
    "letter = input(\"What letter would you like to check?\")\n",
    "\n",
    "i = 0\n",
    "\n",
    "while i < 26:\n",
    "    if alphabetList[i] == letter:\n",
    "        print(\"The letter \" + letter + \" is the \" + str(i) + \" letter in the alphabet\")\n",
    "    i += 1\n"
   ]
  },
  {
   "cell_type": "markdown",
   "metadata": {},
   "source": [
    "The intended outcome is to determine where the letter is in the alphabet using a for loop\n",
    "- What is a good test case to check the current outcome? Why?\n",
    "- Make changes to get the intended outcome."
   ]
  },
  {
   "cell_type": "code",
   "execution_count": 15,
   "metadata": {},
   "outputs": [
    {
     "name": "stdout",
     "output_type": "stream",
     "text": [
      "The letter a is the 1 letter in the alphabet\n"
     ]
    }
   ],
   "source": [
    "\n",
    "\n",
    "letter = input(\"What letter would you like to check?\")\n",
    "\n",
    "for i in alphabetList:\n",
    "    count = 1\n",
    "    if i == letter:\n",
    "        print(\"The letter \" + letter + \" is the \" + str(count) + \" letter in the alphabet\")\n",
    "    count += 1\n"
   ]
  },
  {
   "cell_type": "markdown",
   "metadata": {},
   "source": [
    "This code outputs the even numbers from 0 - 10 using a while loop.\n",
    "- Analyze this code to determine what can be changed to get the outcome to be odd numbers. (Code block below)\n"
   ]
  },
  {
   "cell_type": "code",
   "execution_count": 19,
   "metadata": {},
   "outputs": [
    {
     "name": "stdout",
     "output_type": "stream",
     "text": [
      "[0, 2, 4, 6, 8, 10]\n"
     ]
    }
   ],
   "source": [
    "\n",
    "evens = []\n",
    "i = 0\n",
    "\n",
    "while i <= 10:\n",
    "    evens.append(i)\n",
    "    i += 2\n",
    "\n",
    "print(evens)    \n",
    "\n"
   ]
  },
  {
   "cell_type": "markdown",
   "metadata": {},
   "source": [
    "This code should output the odd numbers from 0 - 10 using a while loop."
   ]
  },
  {
   "cell_type": "code",
   "execution_count": 12,
   "metadata": {},
   "outputs": [
    {
     "name": "stdout",
     "output_type": "stream",
     "text": [
      "[1, 3, 5, 7, 9]\n"
     ]
    }
   ],
   "source": [
    "\n",
    "odds = []\n",
    "i = 1\n",
    "\n",
    "while i <= 10:\n",
    "    odds.append(i)\n",
    "    i += 2\n",
    "\n",
    "print(odds)"
   ]
  },
  {
   "cell_type": "markdown",
   "metadata": {},
   "source": [
    "This code outputs the even numbers from 0 - 10 using a for loop.\n",
    "- Analyze this code to determine what can be changed to get the outcome to be odd numbers. (Code block below)"
   ]
  },
  {
   "cell_type": "code",
   "execution_count": 20,
   "metadata": {},
   "outputs": [
    {
     "name": "stdout",
     "output_type": "stream",
     "text": [
      "[0, 2, 4, 6, 8, 10]\n"
     ]
    }
   ],
   "source": [
    "\n",
    "numbers = [0,1,2,3,4,5,6,7,8,9,10]\n",
    "evens = []\n",
    "\n",
    "for i in numbers:\n",
    "    if (numbers[i] % 2 == 0):\n",
    "        evens.append(numbers[i])\n",
    "\n",
    "print(evens)\n"
   ]
  },
  {
   "cell_type": "markdown",
   "metadata": {},
   "source": [
    "This code should output the odd numbers from 0 - 10 using a for loop."
   ]
  },
  {
   "cell_type": "code",
   "execution_count": 21,
   "metadata": {},
   "outputs": [
    {
     "name": "stdout",
     "output_type": "stream",
     "text": [
      "[0, 3, 6, 9]\n"
     ]
    }
   ],
   "source": [
    "\n",
    "numbers = [0,1,2,3,4,5,6,7,8,9,10]\n",
    "odds = []\n",
    "\n",
    "for i in numbers:\n",
    "    if (numbers[i] % 3 == 0):\n",
    "        odds.append(numbers[i])\n",
    "\n",
    "print(odds)"
   ]
  },
  {
   "cell_type": "markdown",
   "metadata": {},
   "source": [
    "The intended outcome is printing a number between 1 and 100 once, if it is a multiple of 2 or 5 \n",
    "- What values are outputted incorrectly. Why?\n",
    "- Make changes to get the intended outcome."
   ]
  },
  {
   "cell_type": "code",
   "execution_count": 22,
   "metadata": {},
   "outputs": [
    {
     "name": "stdout",
     "output_type": "stream",
     "text": [
      "[0, 0, 2, 4, 5, 6, 8, 10, 10, 12, 14, 15, 16, 18, 20, 20, 22, 24, 25, 26, 28, 30, 30, 32, 34, 35, 36, 38, 40, 40, 42, 44, 45, 46, 48, 50, 50, 52, 54, 55, 56, 58, 60, 60, 62, 64, 65, 66, 68, 70, 70, 72, 74, 75, 76, 78, 80, 80, 82, 84, 85, 86, 88, 90, 90, 92, 94, 95, 96, 98]\n"
     ]
    }
   ],
   "source": [
    "\n",
    "numbers = []\n",
    "newNumbers = []\n",
    "i = 0\n",
    "\n",
    "\n",
    "while i < 100:\n",
    "    numbers.append(i)\n",
    "    i += 1\n",
    "\n",
    "for i in numbers:\n",
    "    if numbers[i] % 5 == 0:\n",
    "        newNumbers.append(numbers[i])\n",
    "    if numbers[i] % 2 == 0:\n",
    "        newNumbers.append(numbers[i])\n",
    "\n",
    "print(newNumbers) \n"
   ]
  },
  {
   "cell_type": "markdown",
   "metadata": {},
   "source": [
    "# Challenge\n",
    "\n",
    "This code segment is at a very early stage of implementation.\n",
    "- What are some ways to (user) error proof this code?\n",
    "- The code should be able to calculate the cost of the meal of the user\n",
    "\n",
    "Hint:\n",
    "- write a “single” test describing an expectation of the program of the program\n",
    "- test - input burger, expect output of burger price\n",
    "- run the test, which should fail because the program lacks that feature\n",
    "- write “just enough” code, the simplest possible, to make the test pass\n",
    "\n",
    "Then repeat this process until you get program working like you want it to work."
   ]
  },
  {
   "cell_type": "code",
   "execution_count": 24,
   "metadata": {},
   "outputs": [
    {
     "name": "stdout",
     "output_type": "stream",
     "text": [
      "Menu\n",
      "burger  $3.99\n",
      "fries  $1.99\n",
      "drink  $0.99\n",
      "Please select an item from the menu.\n",
      "Selected: burger . Price: 3.99\n",
      "Selected: fries . Price: 1.99\n",
      "Selected: drink . Price: 0.99\n",
      "Selected: drink . Price: 0.99\n",
      "Incorrect\n",
      "Incorrect\n"
     ]
    },
    {
     "ename": "KeyboardInterrupt",
     "evalue": "Interrupted by user",
     "output_type": "error",
     "traceback": [
      "\u001b[0;31m---------------------------------------------------------------------------\u001b[0m",
      "\u001b[0;31mKeyboardInterrupt\u001b[0m                         Traceback (most recent call last)",
      "\u001b[1;32m/home/jeffrey/vscode/firstfastpages/_notebooks/2022-10-10-AP-error_testing.ipynb Cell 20\u001b[0m in \u001b[0;36m<cell line: 32>\u001b[0;34m()\u001b[0m\n\u001b[1;32m     <a href='vscode-notebook-cell://wsl%2Bubuntu/home/jeffrey/vscode/firstfastpages/_notebooks/2022-10-10-AP-error_testing.ipynb#X25sdnNjb2RlLXJlbW90ZQ%3D%3D?line=28'>29</a>\u001b[0m                 \u001b[39mprint\u001b[39m (\u001b[39m'\u001b[39m\u001b[39mIncorrect\u001b[39m\u001b[39m'\u001b[39m)\n\u001b[1;32m     <a href='vscode-notebook-cell://wsl%2Bubuntu/home/jeffrey/vscode/firstfastpages/_notebooks/2022-10-10-AP-error_testing.ipynb#X25sdnNjb2RlLXJlbW90ZQ%3D%3D?line=29'>30</a>\u001b[0m     \u001b[39mreturn\u001b[39;00m total\n\u001b[0;32m---> <a href='vscode-notebook-cell://wsl%2Bubuntu/home/jeffrey/vscode/firstfastpages/_notebooks/2022-10-10-AP-error_testing.ipynb#X25sdnNjb2RlLXJlbW90ZQ%3D%3D?line=31'>32</a>\u001b[0m total \u001b[39m=\u001b[39m menuloop()\n\u001b[1;32m     <a href='vscode-notebook-cell://wsl%2Bubuntu/home/jeffrey/vscode/firstfastpages/_notebooks/2022-10-10-AP-error_testing.ipynb#X25sdnNjb2RlLXJlbW90ZQ%3D%3D?line=32'>33</a>\u001b[0m \u001b[39mprint\u001b[39m(total)\n",
      "\u001b[1;32m/home/jeffrey/vscode/firstfastpages/_notebooks/2022-10-10-AP-error_testing.ipynb Cell 20\u001b[0m in \u001b[0;36mmenuloop\u001b[0;34m()\u001b[0m\n\u001b[1;32m     <a href='vscode-notebook-cell://wsl%2Bubuntu/home/jeffrey/vscode/firstfastpages/_notebooks/2022-10-10-AP-error_testing.ipynb#X25sdnNjb2RlLXJlbW90ZQ%3D%3D?line=20'>21</a>\u001b[0m choice \u001b[39m=\u001b[39m \u001b[39m'\u001b[39m\u001b[39m'\u001b[39m\n\u001b[1;32m     <a href='vscode-notebook-cell://wsl%2Bubuntu/home/jeffrey/vscode/firstfastpages/_notebooks/2022-10-10-AP-error_testing.ipynb#X25sdnNjb2RlLXJlbW90ZQ%3D%3D?line=21'>22</a>\u001b[0m \u001b[39mwhile\u001b[39;00m choice \u001b[39m!=\u001b[39m \u001b[39m'\u001b[39m\u001b[39mdone\u001b[39m\u001b[39m'\u001b[39m:\n\u001b[0;32m---> <a href='vscode-notebook-cell://wsl%2Bubuntu/home/jeffrey/vscode/firstfastpages/_notebooks/2022-10-10-AP-error_testing.ipynb#X25sdnNjb2RlLXJlbW90ZQ%3D%3D?line=22'>23</a>\u001b[0m     choice \u001b[39m=\u001b[39m \u001b[39minput\u001b[39;49m(\u001b[39m'\u001b[39;49m\u001b[39mPlease select an item from the menu.\u001b[39;49m\u001b[39m'\u001b[39;49m)\n\u001b[1;32m     <a href='vscode-notebook-cell://wsl%2Bubuntu/home/jeffrey/vscode/firstfastpages/_notebooks/2022-10-10-AP-error_testing.ipynb#X25sdnNjb2RlLXJlbW90ZQ%3D%3D?line=23'>24</a>\u001b[0m     \u001b[39mif\u001b[39;00m choice \u001b[39m!=\u001b[39m \u001b[39m'\u001b[39m\u001b[39mdone\u001b[39m\u001b[39m'\u001b[39m:\n\u001b[1;32m     <a href='vscode-notebook-cell://wsl%2Bubuntu/home/jeffrey/vscode/firstfastpages/_notebooks/2022-10-10-AP-error_testing.ipynb#X25sdnNjb2RlLXJlbW90ZQ%3D%3D?line=24'>25</a>\u001b[0m         \u001b[39mif\u001b[39;00m choice \u001b[39min\u001b[39;00m menu :\n",
      "File \u001b[0;32m~/.local/lib/python3.8/site-packages/ipykernel/kernelbase.py:1177\u001b[0m, in \u001b[0;36mKernel.raw_input\u001b[0;34m(self, prompt)\u001b[0m\n\u001b[1;32m   1173\u001b[0m \u001b[39mif\u001b[39;00m \u001b[39mnot\u001b[39;00m \u001b[39mself\u001b[39m\u001b[39m.\u001b[39m_allow_stdin:\n\u001b[1;32m   1174\u001b[0m     \u001b[39mraise\u001b[39;00m StdinNotImplementedError(\n\u001b[1;32m   1175\u001b[0m         \u001b[39m\"\u001b[39m\u001b[39mraw_input was called, but this frontend does not support input requests.\u001b[39m\u001b[39m\"\u001b[39m\n\u001b[1;32m   1176\u001b[0m     )\n\u001b[0;32m-> 1177\u001b[0m \u001b[39mreturn\u001b[39;00m \u001b[39mself\u001b[39;49m\u001b[39m.\u001b[39;49m_input_request(\n\u001b[1;32m   1178\u001b[0m     \u001b[39mstr\u001b[39;49m(prompt),\n\u001b[1;32m   1179\u001b[0m     \u001b[39mself\u001b[39;49m\u001b[39m.\u001b[39;49m_parent_ident[\u001b[39m\"\u001b[39;49m\u001b[39mshell\u001b[39;49m\u001b[39m\"\u001b[39;49m],\n\u001b[1;32m   1180\u001b[0m     \u001b[39mself\u001b[39;49m\u001b[39m.\u001b[39;49mget_parent(\u001b[39m\"\u001b[39;49m\u001b[39mshell\u001b[39;49m\u001b[39m\"\u001b[39;49m),\n\u001b[1;32m   1181\u001b[0m     password\u001b[39m=\u001b[39;49m\u001b[39mFalse\u001b[39;49;00m,\n\u001b[1;32m   1182\u001b[0m )\n",
      "File \u001b[0;32m~/.local/lib/python3.8/site-packages/ipykernel/kernelbase.py:1219\u001b[0m, in \u001b[0;36mKernel._input_request\u001b[0;34m(self, prompt, ident, parent, password)\u001b[0m\n\u001b[1;32m   1216\u001b[0m             \u001b[39mbreak\u001b[39;00m\n\u001b[1;32m   1217\u001b[0m \u001b[39mexcept\u001b[39;00m \u001b[39mKeyboardInterrupt\u001b[39;00m:\n\u001b[1;32m   1218\u001b[0m     \u001b[39m# re-raise KeyboardInterrupt, to truncate traceback\u001b[39;00m\n\u001b[0;32m-> 1219\u001b[0m     \u001b[39mraise\u001b[39;00m \u001b[39mKeyboardInterrupt\u001b[39;00m(\u001b[39m\"\u001b[39m\u001b[39mInterrupted by user\u001b[39m\u001b[39m\"\u001b[39m) \u001b[39mfrom\u001b[39;00m \u001b[39mNone\u001b[39m\n\u001b[1;32m   1220\u001b[0m \u001b[39mexcept\u001b[39;00m \u001b[39mException\u001b[39;00m:\n\u001b[1;32m   1221\u001b[0m     \u001b[39mself\u001b[39m\u001b[39m.\u001b[39mlog\u001b[39m.\u001b[39mwarning(\u001b[39m\"\u001b[39m\u001b[39mInvalid Message:\u001b[39m\u001b[39m\"\u001b[39m, exc_info\u001b[39m=\u001b[39m\u001b[39mTrue\u001b[39;00m)\n",
      "\u001b[0;31mKeyboardInterrupt\u001b[0m: Interrupted by user"
     ]
    }
   ],
   "source": [
    "\n",
    "from dataclasses import FrozenInstanceError\n",
    "from logging.handlers import BufferingHandler\n",
    "\n",
    "\n",
    "menu =  {\"burger\": 3.99,\n",
    "         \"fries\": 1.99,\n",
    "         \"drink\": 0.99}\n",
    "total = 0\n",
    "\n",
    "#shows the user the menu and prompts them to select an item\n",
    "print(\"Menu\")\n",
    "for k,v in menu.items():\n",
    "    print(k + \"  $\" + str(v)) #why does v have \"str\" n front of it?\n",
    "\n",
    "#ideally the code should prompt the user multiple times\n",
    "print(\"Please select an item from the menu.\")\n",
    "\n",
    "\n",
    "def menuloop():\n",
    "    total = 0   \n",
    "    choice = ''\n",
    "    while choice != 'done':\n",
    "        choice = input('Please select an item from the menu.')\n",
    "        if choice != 'done':\n",
    "            if choice in menu :\n",
    "                print('Selected:', choice , '. Price:', menu[choice])\n",
    "                total +=  menu [choice]\n",
    "            else: \n",
    "                print ('Incorrect')\n",
    "    return total\n",
    "\n",
    "total = menuloop()\n",
    "print(total)"
   ]
  }
 ],
 "metadata": {
  "kernelspec": {
   "display_name": "Python 3.8.10 64-bit",
   "language": "python",
   "name": "python3"
  },
  "language_info": {
   "codemirror_mode": {
    "name": "ipython",
    "version": 3
   },
   "file_extension": ".py",
   "mimetype": "text/x-python",
   "name": "python",
   "nbconvert_exporter": "python",
   "pygments_lexer": "ipython3",
   "version": "3.8.10"
  },
  "orig_nbformat": 4,
  "vscode": {
   "interpreter": {
    "hash": "916dbcbb3f70747c44a77c7bcd40155683ae19c65e1c03b4aa3499c5328201f1"
   }
  }
 },
 "nbformat": 4,
 "nbformat_minor": 2
}
