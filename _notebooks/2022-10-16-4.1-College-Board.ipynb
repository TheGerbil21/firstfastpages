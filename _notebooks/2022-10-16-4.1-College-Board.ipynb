{
 "cells": [
  {
   "cell_type": "markdown",
   "metadata": {},
   "source": [
    "# 4.1 Collaboration College Board Videos 1 and 2 Notes\n",
    "My notes for Big Idea 4 - Internet Connections\n",
    "\n",
    "- toc: true\n",
    "- categories: [TechTalk]\n",
    "- categories: [TechTalk]\n",
    "- tags: [python]"
   ]
  },
  {
   "cell_type": "markdown",
   "metadata": {},
   "source": [
    "## Video 1 Notes\n",
    "### Essential Knowledge:\n",
    "- packet - small amount of data sent over a network, each packet includes the source and the destination of information\n",
    "- computer system - group of computing devices and programs working together for a joint purpose\n",
    "- computer network - type of computing system, group of interconnected computing devices capable of sending or receiving data\n",
    "- packet switching - message is broken up into packets and sent in any order, packets are reassembled by the recipient’s device\n",
    "- routing - process of finding a path from sender to receiver\n",
    "- path - sequence of directly connected computing devices that begins at sender and ends at receiver\n",
    "- bandwidth - maximum amount of data that can be sent in fixed amount of time on a computer network"
   ]
  },
  {
   "cell_type": "markdown",
   "metadata": {},
   "source": [
    "## Video 2 Notes\n",
    "### Essential Knowledge:\n",
    "- protocol - agreed upon set of rules that specify the behavior of a system\n",
    "- OSI - layers you go through to communicate, 7 groups of protocols- physical, data link, network, transport, session, presentation, application.\n",
    "- IETF - manages development of standards and technical discussions concerning the internet in an open and collaborative process\n",
    "- TCP - establishes a common standard for how to send messages between devices on the internet\n",
    "- packet contains data that is being transmitted as well as metadata containing info used for routing info\n",
    "- internet is scalable - can change in size and scale to meet new demands\n",
    "- local area network (LAN) - physical connections limited by hardware and physics\n",
    "- intranet - LANs connected by Routers within an organization\n",
    "- AS - large Intranets linked together under the control and policies of major organizations. Large routers ink networks with large telecommunications connections\n",
    "- the internet - autonomous systems linked together.\n",
    "- transport layer - how packets are sent, and for what\n",
    "- web server - programs running on machines connected to the internet\n",
    "- domain name service - applications that translate a human readable URL\n",
    "- www - network of linked data and programs running over the internet, NOT the internet"
   ]
  },
  {
   "cell_type": "markdown",
   "metadata": {},
   "source": [
    "## Important Diagram: Narrow Neck Model\n",
    "![Screenshot 2022-10-16 222856](https://user-images.githubusercontent.com/51098969/196096331-2ae1dbf7-d15b-4d99-b375-36c796781a08.jpg)"
   ]
  }
 ],
 "metadata": {
  "kernelspec": {
   "display_name": "Python 3.8.10 64-bit",
   "language": "python",
   "name": "python3"
  },
  "language_info": {
   "name": "python",
   "version": "3.8.10"
  },
  "orig_nbformat": 4,
  "vscode": {
   "interpreter": {
    "hash": "916dbcbb3f70747c44a77c7bcd40155683ae19c65e1c03b4aa3499c5328201f1"
   }
  }
 },
 "nbformat": 4,
 "nbformat_minor": 2
}
