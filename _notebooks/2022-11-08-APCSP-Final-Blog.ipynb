{
 "cells": [
  {
   "cell_type": "markdown",
   "metadata": {},
   "source": [
    "# Scrum Team Outline + Project Purpose\n",
    "\n",
    "- toc: false \n",
    "- badges: true\n",
    "- comments: true\n",
    "- categories: [jupyter]"
   ]
  },
  {
   "cell_type": "markdown",
   "metadata": {},
   "source": [
    "## Evidence of Final Taken:\n",
    "I got a 48 out of 50 on the final, which was a MUCH higher score than I expected to get. I will be going over the questions that I got wrong and attempt corrections, as well as going over questions that I guessed and still don't understand.\n",
    "\n",
    "![Screenshot 2022-11-08 104827](https://user-images.githubusercontent.com/51098969/200650102-f13bb144-97ff-497c-95b8-d821502c452d.jpg)\n"
   ]
  },
  {
   "cell_type": "markdown",
   "metadata": {},
   "source": [
    "## Corrections for Incorrect Questions:\n",
    "#### Question 1: Behavior of code that multiplies inside a loop\n",
    "\n",
    "![Screenshot 2022-11-08 105145](https://user-images.githubusercontent.com/51098969/200650647-b3c7b8fe-f72d-47ab-b2ce-23553d6e3914.jpg)\n",
    "\n",
    "I got this question wrong because I incorrectly assumed that the code segment used a double multiplication algorithm. In reality the repeat function combined with the multiplication statement means that an exponent should be used in the formula. 2 (5 * 5 * 5) = 2 (5^3)\n",
    "\n",
    "#### Question 35: Set maxPS based on time\n",
    "\n",
    "![Screenshot 2022-11-08 110503](https://user-images.githubusercontent.com/51098969/200652945-80013371-12c7-4fc4-ad91-91e993316cb2.jpg)\n",
    "\n",
    "I got this question wrong because I incorrectly chose C as one of the options, which assigns maxPS the value 50 when time > 120 and assigns maxPS the value 30 otherwise. This does not set the maxPS based on time. The A option has the correct code segment that sets maxPS to 50, then uses the IF statement to set maxPS to 30 when time > 120."
   ]
  },
  {
   "cell_type": "markdown",
   "metadata": {},
   "source": [
    "\n",
    "## Corrections for Misunderstood Questions:\n",
    "\n",
    "There are still questions that I didn't understand, but still answered correctly. I went back to these questions to strengthen my learning further.\n",
    "\n",
    "#### Question 1: Behavior of code that multiplies inside a loop\n",
    "\n",
    "![Screenshot 2022-11-08 105145](https://user-images.githubusercontent.com/51098969/200650647-b3c7b8fe-f72d-47ab-b2ce-23553d6e3914.jpg)\n",
    "\n",
    "I got this question wrong because I incorrectly assumed that the code segment used a double multiplication algorithm. In reality the repeat function combined with the multiplication statement means that an exponent should be used in the formula. 2 (5 * 5 * 5) = 2 (5^3)\n",
    "\n",
    "#### Question 35: Set maxPS based on time\n",
    "\n",
    "![Screenshot 2022-11-08 110503](https://user-images.githubusercontent.com/51098969/200652945-80013371-12c7-4fc4-ad91-91e993316cb2.jpg)\n",
    "\n",
    "I got this question wrong because I incorrectly chose C as one of the options, which assigns maxPS the value 50 when time > 120 and assigns maxPS the value 30 otherwise. This does not set the maxPS based on time. The A option has the correct code segment that sets maxPS to 50, then uses the IF statement to set maxPS to 30 when time > 120."
   ]
  }
 ],
 "metadata": {
  "kernelspec": {
   "display_name": "Python 3.8.10 64-bit",
   "language": "python",
   "name": "python3"
  },
  "language_info": {
   "name": "python",
   "version": "3.8.10"
  },
  "orig_nbformat": 4,
  "vscode": {
   "interpreter": {
    "hash": "916dbcbb3f70747c44a77c7bcd40155683ae19c65e1c03b4aa3499c5328201f1"
   }
  }
 },
 "nbformat": 4,
 "nbformat_minor": 2
}
