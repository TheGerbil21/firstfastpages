{
 "cells": [
  {
   "cell_type": "markdown",
   "metadata": {},
   "source": [
    "# APCSP Final Exam Blog\n",
    "\n",
    "- toc: false \n",
    "- badges: true\n",
    "- comments: true\n",
    "- categories: [jupyter]"
   ]
  },
  {
   "cell_type": "markdown",
   "metadata": {},
   "source": [
    "## Evidence of Final Taken:\n",
    "I got a 48 out of 50 on the final, which was a MUCH higher score than I expected to get. I will be going over the questions that I got wrong and attempt corrections, as well as going over questions that I guessed and still don't understand.\n",
    "\n",
    "![Screenshot 2022-11-08 104827](https://user-images.githubusercontent.com/51098969/200650102-f13bb144-97ff-497c-95b8-d821502c452d.jpg)\n"
   ]
  },
  {
   "cell_type": "markdown",
   "metadata": {},
   "source": [
    "## Strengths and Weaknesses:\n",
    "Strengths:\n",
    "- Strong knowledge of Collaboration, the Internet, and other mostly conceptual questions\n",
    "- Decent arithmetic and logic skills to solve many code segments\n",
    "\n",
    "Weaknesses:\n",
    "- Need more practice and understanding of both complex lists and binary\n",
    "- Take more time reading the code segments to fully understand the algorithms at play"
   ]
  },
  {
   "cell_type": "markdown",
   "metadata": {},
   "source": [
    "## Corrections for Incorrect Questions:\n",
    "#### Question 1: Behavior of code that multiplies inside a loop\n",
    "\n",
    "![Screenshot 2022-11-08 105145](https://user-images.githubusercontent.com/51098969/200650647-b3c7b8fe-f72d-47ab-b2ce-23553d6e3914.jpg)\n",
    "\n",
    "I got this question wrong because I incorrectly assumed that the code segment used a double multiplication algorithm. In reality the repeat function combined with the multiplication statement means that an exponent should be used in the formula. 2 (5 * 5 * 5) = 2 (5^3)\n",
    "\n",
    "#### Question 35: Set maxPS based on time\n",
    "\n",
    "![Screenshot 2022-11-08 110503](https://user-images.githubusercontent.com/51098969/200652945-80013371-12c7-4fc4-ad91-91e993316cb2.jpg)\n",
    "\n",
    "I got this question wrong because I incorrectly chose C as one of the options, which assigns maxPS the value 50 when time > 120 and assigns maxPS the value 30 otherwise. This does not set the maxPS based on time. The A option has the correct code segment that sets maxPS to 50, then uses the IF statement to set maxPS to 30 when time > 120."
   ]
  },
  {
   "cell_type": "markdown",
   "metadata": {},
   "source": [
    "\n",
    "## Corrections for Misunderstood Questions:\n",
    "\n",
    "There are still questions that I didn't understand, but still answered correctly. I went back to these questions to strengthen my learning further.\n",
    "\n",
    "#### Question 13: Test cases for allPositive in a list\n",
    "\n",
    "![Screenshot 2022-11-09 205836](https://user-images.githubusercontent.com/51098969/201004603-ae676a78-208f-4ba3-bd62-c2564349d6bb.jpg)\n",
    "\n",
    "I got this question right because I simply assumed that positive integer list errors are usually caused by a negative one. I didn't know the full reasoning behind my answer, and I now understand that the procedure returns true when it should return false because the list does not contain only positive values.\n",
    "\n",
    "#### Question 22: Decimal value not equal to given binary values\n",
    "\n",
    "![Screenshot 2022-11-09 210204](https://user-images.githubusercontent.com/51098969/201005032-fe027224-6d24-4103-bc1a-e4afd8a460df.jpg)\n",
    "\n",
    "I got this question right by just guessing, and I don't have the fullest grasp of binary arithmetic yet. Studying the question again, I now understand that in the most basic form of binary, Binary 0011 is equivalent to 2^1+2^0, or decimal 3. Binary 0110 is equivalent to 2^2+2^1, or decimal 6. Binary 1111 is equivalent to 2^3+2^2+2^1+2^0, or decimal 15. This is why Decimal 9 is the correct answer.\n",
    "\n",
    "#### Question 42: Value of sum after IF ELSE IF\n",
    "\n",
    "![Screenshot 2022-11-10 002741](https://user-images.githubusercontent.com/51098969/201039702-091c7d5f-05aa-40c5-8ee0-c041cc27352a.jpg)\n",
    "\n",
    "I got this question right by using incorrect math. I assumed that num3 was ignored and replaced with num2, but I didn't fully understand the other argument shown. Since num2 ≥ num3 evaluates to true, the body of the second IF block is executed and num1 is assigned the value 8. Lastly, sum is assigned the value of 8 + 4 + 4, or 16.\n",
    "\n",
    "#### Question 45: Values of counts after traversing theList\n",
    "\n",
    "![Screenshot 2022-11-10 003345](https://user-images.githubusercontent.com/51098969/201040871-8217cb59-e516-4bb2-8bb2-4e22159f72a6.jpg)\n",
    "\n",
    "I got this question right by just guessing, and I didn't really process how theList values communicated with the If/Else statemment in this code segment. I realized that before addition is preformed, the code segment first iterates through each element in the list, incrementing count1 for each positive value and incrementing count2 otherwise. The list only contains two positive values, so count1 is 2 and count2 is 3."
   ]
  }
 ],
 "metadata": {
  "kernelspec": {
   "display_name": "Python 3.8.10 64-bit",
   "language": "python",
   "name": "python3"
  },
  "language_info": {
   "name": "python",
   "version": "3.8.10"
  },
  "orig_nbformat": 4,
  "vscode": {
   "interpreter": {
    "hash": "916dbcbb3f70747c44a77c7bcd40155683ae19c65e1c03b4aa3499c5328201f1"
   }
  }
 },
 "nbformat": 4,
 "nbformat_minor": 2
}
