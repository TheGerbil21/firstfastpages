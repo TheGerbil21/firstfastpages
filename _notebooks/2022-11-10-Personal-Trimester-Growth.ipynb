{
 "cells": [
  {
   "cell_type": "markdown",
   "metadata": {},
   "source": [
    "# APCSP Final Reflection and Growth\n",
    "\n",
    "- toc: false \n",
    "- badges: true\n",
    "- comments: true\n",
    "- categories: [python, jupyter, tri1, misc]"
   ]
  },
  {
   "cell_type": "markdown",
   "metadata": {},
   "source": [
    "## Reflection:\n",
    "I have learned many things over the trimester, and I made a quick list project out of python to show my learning. It's not perfect and has a few errors, but I think it captured the nature of APCSP, which is realizing errors and working to eventually fix and prevent them in the future."
   ]
  },
  {
   "cell_type": "markdown",
   "metadata": {},
   "source": [
    "## Code Segment:"
   ]
  },
  {
   "cell_type": "code",
   "execution_count": 29,
   "metadata": {},
   "outputs": [
    {
     "name": "stdout",
     "output_type": "stream",
     "text": [
      "[{'#1': 'Set up a personal blog, updating it regularly with weekly knowledge and work', '#2': \"Explored many APCSP topics including lists, Javascript, HTML, API's, and Deployment\", '#3': 'Deployed Flask Web Servers on official Amazon Web Services', '#4': \"Created API's to store and display data on servers\", '#5': 'Managed both Frontend and Backend Elements to create a fufilling project', '#6': ['Became a better group leader']}, {'#1': 'Jeffrey Lee (Scrum Master)', '#2': 'Luke Riggins (DevOps)', '#3': 'Ethan Truong (Frontend)', '#4': 'James Armstrong (Backend)'}]\n"
     ]
    }
   ],
   "source": [
    "# Define an empty List called InfoDb\n",
    "InfoDb = []\n",
    "\n",
    "# Append to List a Dictionary of key/values related to a person and preferences\n",
    "InfoDb.append({\n",
    "    \"#1\": \"Set up a personal blog, updating it regularly with weekly knowledge and work\",\n",
    "    \"#2\": \"Explored many APCSP topics including lists, Javascript, HTML, API's, and Deployment\",\n",
    "    \"#3\": \"Deployed Flask Web Servers on official Amazon Web Services\",\n",
    "    \"#4\": \"Created API's to store and display data on servers\",\n",
    "    \"#5\": \"Managed both Frontend and Backend Elements to create a fufilling project\",\n",
    "    \"#6\": [\"Became a better group leader\"]\n",
    "})\n",
    "\n",
    "# Append to List a 2nd Dictionary of key/values\n",
    "InfoDb.append({\n",
    "    \"#1\": \"Jeffrey Lee (Scrum Master)\",\n",
    "    \"#2\": \"Luke Riggins (DevOps)\",\n",
    "    \"#3\": \"Ethan Truong (Frontend)\",\n",
    "    \"#4\": \"James Armstrong (Backend)\",\n",
    "})\n",
    "\n",
    "# Print the data structure\n",
    "print(InfoDb)"
   ]
  },
  {
   "cell_type": "code",
   "execution_count": 30,
   "metadata": {},
   "outputs": [
    {
     "name": "stdout",
     "output_type": "stream",
     "text": [
      "For loop output\n",
      "\n",
      "Major Areas of Growth This Trimester\n",
      "\t #1 Set up a personal blog, updating it regularly with weekly knowledge and work\n",
      "\t #2 Explored many APCSP topics including lists, Javascript, HTML, API's, and Deployment\n",
      "\t #3 Deployed Flask Web Servers on official Amazon Web Services\n",
      "\t #4 Created API's to store and display data on servers\n",
      "\t #5 Managed both Frontend and Backend Elements to create a fufilling project\n",
      "\t #6: Became a better group leader\n",
      "\n",
      "Major Areas of Growth This Trimester\n",
      "\t #1 Jeffrey Lee (Scrum Master)\n",
      "\t #2 Luke Riggins (DevOps)\n",
      "\t #3 Ethan Truong (Frontend)\n",
      "\t #4 James Armstrong (Backend)\n"
     ]
    },
    {
     "ename": "KeyError",
     "evalue": "'#5'",
     "output_type": "error",
     "traceback": [
      "\u001b[0;31m---------------------------------------------------------------------------\u001b[0m",
      "\u001b[0;31mKeyError\u001b[0m                                  Traceback (most recent call last)",
      "\u001b[1;32m/home/jeffrey/vscode/firstfastpages/_notebooks/2022-11-10-Personal-Trimester-Growth.ipynb Cell 5\u001b[0m in \u001b[0;36m<cell line: 19>\u001b[0;34m()\u001b[0m\n\u001b[1;32m     <a href='vscode-notebook-cell://wsl%2Bubuntu/home/jeffrey/vscode/firstfastpages/_notebooks/2022-11-10-Personal-Trimester-Growth.ipynb#W1sdnNjb2RlLXJlbW90ZQ%3D%3D?line=15'>16</a>\u001b[0m     \u001b[39mfor\u001b[39;00m record \u001b[39min\u001b[39;00m InfoDb:\n\u001b[1;32m     <a href='vscode-notebook-cell://wsl%2Bubuntu/home/jeffrey/vscode/firstfastpages/_notebooks/2022-11-10-Personal-Trimester-Growth.ipynb#W1sdnNjb2RlLXJlbW90ZQ%3D%3D?line=16'>17</a>\u001b[0m         print_data(record)\n\u001b[0;32m---> <a href='vscode-notebook-cell://wsl%2Bubuntu/home/jeffrey/vscode/firstfastpages/_notebooks/2022-11-10-Personal-Trimester-Growth.ipynb#W1sdnNjb2RlLXJlbW90ZQ%3D%3D?line=18'>19</a>\u001b[0m for_loop()\n",
      "\u001b[1;32m/home/jeffrey/vscode/firstfastpages/_notebooks/2022-11-10-Personal-Trimester-Growth.ipynb Cell 5\u001b[0m in \u001b[0;36mfor_loop\u001b[0;34m()\u001b[0m\n\u001b[1;32m     <a href='vscode-notebook-cell://wsl%2Bubuntu/home/jeffrey/vscode/firstfastpages/_notebooks/2022-11-10-Personal-Trimester-Growth.ipynb#W1sdnNjb2RlLXJlbW90ZQ%3D%3D?line=14'>15</a>\u001b[0m \u001b[39mprint\u001b[39m(\u001b[39m\"\u001b[39m\u001b[39mFor loop output\u001b[39m\u001b[39m\\n\u001b[39;00m\u001b[39m\"\u001b[39m)\n\u001b[1;32m     <a href='vscode-notebook-cell://wsl%2Bubuntu/home/jeffrey/vscode/firstfastpages/_notebooks/2022-11-10-Personal-Trimester-Growth.ipynb#W1sdnNjb2RlLXJlbW90ZQ%3D%3D?line=15'>16</a>\u001b[0m \u001b[39mfor\u001b[39;00m record \u001b[39min\u001b[39;00m InfoDb:\n\u001b[0;32m---> <a href='vscode-notebook-cell://wsl%2Bubuntu/home/jeffrey/vscode/firstfastpages/_notebooks/2022-11-10-Personal-Trimester-Growth.ipynb#W1sdnNjb2RlLXJlbW90ZQ%3D%3D?line=16'>17</a>\u001b[0m     print_data(record)\n",
      "\u001b[1;32m/home/jeffrey/vscode/firstfastpages/_notebooks/2022-11-10-Personal-Trimester-Growth.ipynb Cell 5\u001b[0m in \u001b[0;36mprint_data\u001b[0;34m(d_rec)\u001b[0m\n\u001b[1;32m      <a href='vscode-notebook-cell://wsl%2Bubuntu/home/jeffrey/vscode/firstfastpages/_notebooks/2022-11-10-Personal-Trimester-Growth.ipynb#W1sdnNjb2RlLXJlbW90ZQ%3D%3D?line=5'>6</a>\u001b[0m \u001b[39mprint\u001b[39m(\u001b[39m\"\u001b[39m\u001b[39m\\t\u001b[39;00m\u001b[39m\"\u001b[39m, \u001b[39m\"\u001b[39m\u001b[39m#3\u001b[39m\u001b[39m\"\u001b[39m, d_rec[\u001b[39m\"\u001b[39m\u001b[39m#3\u001b[39m\u001b[39m\"\u001b[39m])\n\u001b[1;32m      <a href='vscode-notebook-cell://wsl%2Bubuntu/home/jeffrey/vscode/firstfastpages/_notebooks/2022-11-10-Personal-Trimester-Growth.ipynb#W1sdnNjb2RlLXJlbW90ZQ%3D%3D?line=6'>7</a>\u001b[0m \u001b[39mprint\u001b[39m(\u001b[39m\"\u001b[39m\u001b[39m\\t\u001b[39;00m\u001b[39m\"\u001b[39m, \u001b[39m\"\u001b[39m\u001b[39m#4\u001b[39m\u001b[39m\"\u001b[39m, d_rec[\u001b[39m\"\u001b[39m\u001b[39m#4\u001b[39m\u001b[39m\"\u001b[39m])\n\u001b[0;32m----> <a href='vscode-notebook-cell://wsl%2Bubuntu/home/jeffrey/vscode/firstfastpages/_notebooks/2022-11-10-Personal-Trimester-Growth.ipynb#W1sdnNjb2RlLXJlbW90ZQ%3D%3D?line=7'>8</a>\u001b[0m \u001b[39mprint\u001b[39m(\u001b[39m\"\u001b[39m\u001b[39m\\t\u001b[39;00m\u001b[39m\"\u001b[39m, \u001b[39m\"\u001b[39m\u001b[39m#5\u001b[39m\u001b[39m\"\u001b[39m, d_rec[\u001b[39m\"\u001b[39;49m\u001b[39m#5\u001b[39;49m\u001b[39m\"\u001b[39;49m])\n\u001b[1;32m      <a href='vscode-notebook-cell://wsl%2Bubuntu/home/jeffrey/vscode/firstfastpages/_notebooks/2022-11-10-Personal-Trimester-Growth.ipynb#W1sdnNjb2RlLXJlbW90ZQ%3D%3D?line=8'>9</a>\u001b[0m \u001b[39mprint\u001b[39m(\u001b[39m\"\u001b[39m\u001b[39m\\t\u001b[39;00m\u001b[39m\"\u001b[39m, \u001b[39m\"\u001b[39m\u001b[39m#6: \u001b[39m\u001b[39m\"\u001b[39m, end\u001b[39m=\u001b[39m\u001b[39m\"\u001b[39m\u001b[39m\"\u001b[39m)  \u001b[39m# end=\"\" make sure no return occurs\u001b[39;00m\n\u001b[1;32m     <a href='vscode-notebook-cell://wsl%2Bubuntu/home/jeffrey/vscode/firstfastpages/_notebooks/2022-11-10-Personal-Trimester-Growth.ipynb#W1sdnNjb2RlLXJlbW90ZQ%3D%3D?line=9'>10</a>\u001b[0m \u001b[39mprint\u001b[39m(\u001b[39m\"\u001b[39m\u001b[39m, \u001b[39m\u001b[39m\"\u001b[39m\u001b[39m.\u001b[39mjoin(d_rec[\u001b[39m\"\u001b[39m\u001b[39m#6\u001b[39m\u001b[39m\"\u001b[39m]))\n",
      "\u001b[0;31mKeyError\u001b[0m: '#5'"
     ]
    }
   ],
   "source": [
    "# given and index this will print InfoDb content\n",
    "def print_data(d_rec):\n",
    "    print(\"Major Areas of Growth This Trimester\")\n",
    "    print(\"\\t\", \"#1\", d_rec[\"#1\"]) # \\t is a tab indent\n",
    "    print(\"\\t\", \"#2\", d_rec[\"#2\"])\n",
    "    print(\"\\t\", \"#3\", d_rec[\"#3\"])\n",
    "    print(\"\\t\", \"#4\", d_rec[\"#4\"])\n",
    "    print(\"\\t\", \"#5\", d_rec[\"#5\"])\n",
    "    print(\"\\t\", \"#6: \", end=\"\")  # end=\"\" make sure no return occurs\n",
    "    print(\", \".join(d_rec[\"#6\"]))\n",
    "    print()\n",
    "\n",
    "# for loop iterates on length of InfoDb\n",
    "def for_loop():\n",
    "    print(\"For loop output\\n\")\n",
    "    for record in InfoDb:\n",
    "        print_data(record)\n",
    "\n",
    "for_loop()\n"
   ]
  }
 ],
 "metadata": {
  "kernelspec": {
   "display_name": "Python 3.8.10 64-bit",
   "language": "python",
   "name": "python3"
  },
  "language_info": {
   "codemirror_mode": {
    "name": "ipython",
    "version": 3
   },
   "file_extension": ".py",
   "mimetype": "text/x-python",
   "name": "python",
   "nbconvert_exporter": "python",
   "pygments_lexer": "ipython3",
   "version": "3.8.10"
  },
  "orig_nbformat": 4,
  "vscode": {
   "interpreter": {
    "hash": "916dbcbb3f70747c44a77c7bcd40155683ae19c65e1c03b4aa3499c5328201f1"
   }
  }
 },
 "nbformat": 4,
 "nbformat_minor": 2
}
