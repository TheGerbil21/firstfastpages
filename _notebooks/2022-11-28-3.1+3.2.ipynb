{
 "cells": [
  {
   "cell_type": "markdown",
   "metadata": {},
   "source": [
    "# Variables, Assignments, and Data Abstractions\n",
    "\n",
    "- toc: true \n",
    "- badges: true\n",
    "- comments: true\n",
    "- categories: [jupyter]"
   ]
  },
  {
   "cell_type": "markdown",
   "metadata": {},
   "source": [
    "## Variables\n",
    "- A variable is an abstraction inside a program that holds a value\n",
    "- It organizes data through labeling and titling\n",
    "- Helps with the readability of program code and knowing which values are represented\n",
    "- Three parts: name, value, type\n",
    "\n",
    "![Screenshot 2022-11-28 112635](https://user-images.githubusercontent.com/51098969/204364248-3eecf392-d937-4b5d-86ec-47fbe755d28b.jpg)\n"
   ]
  },
  {
   "cell_type": "markdown",
   "metadata": {},
   "source": [
    "## Types of Data\n",
    "- Integer: A number\n",
    "- Text/string: A word\n",
    "- Boolean: Data that determines if something is true or false"
   ]
  },
  {
   "cell_type": "code",
   "execution_count": 1,
   "metadata": {},
   "outputs": [
    {
     "name": "stdout",
     "output_type": "stream",
     "text": [
      "table1 <class 'str'>\n",
      "4 <class 'int'>\n",
      "False <class 'bool'>\n"
     ]
    }
   ],
   "source": [
    "name = \"table1\" #string\n",
    "print(name, type(name))\n",
    "\n",
    "number = 4 #integer\n",
    "print(number, type(number))\n",
    "\n",
    "isAbsent = False\n",
    "print(isAbsent, type(isAbsent))"
   ]
  },
  {
   "cell_type": "markdown",
   "metadata": {},
   "source": [
    "## What can we do with Variables?\n",
    "\n",
    "A list of data can also be stored in variables. Why is that useful?\n",
    "- print/retrieve specific values in the list without creating a lot of variables\n",
    "- easily remove/add/change items into the list"
   ]
  },
  {
   "cell_type": "code",
   "execution_count": 3,
   "metadata": {},
   "outputs": [
    {
     "name": "stdout",
     "output_type": "stream",
     "text": [
      "red\n"
     ]
    }
   ],
   "source": [
    "colors = [\"red\", \"orange\", \"yellow\"]\n",
    "print(colors[0])"
   ]
  },
  {
   "cell_type": "markdown",
   "metadata": {},
   "source": [
    "## Assignments\n",
    "- The assignment operator allows a program to change the value represented by a variable\n",
    "- Used to assigning values to variables\n",
    "\n",
    "![Screenshot 2022-11-28 113028](https://user-images.githubusercontent.com/51098969/204364499-d5930bf7-0b93-4da2-9bee-f06adad2a2e3.jpg)"
   ]
  },
  {
   "cell_type": "markdown",
   "metadata": {},
   "source": [
    "### Examples:"
   ]
  },
  {
   "cell_type": "code",
   "execution_count": 4,
   "metadata": {},
   "outputs": [
    {
     "name": "stdout",
     "output_type": "stream",
     "text": [
      "2\n"
     ]
    }
   ],
   "source": [
    "a = 1\n",
    "b = 2\n",
    "a = b\n",
    "print(a)"
   ]
  },
  {
   "cell_type": "code",
   "execution_count": null,
   "metadata": {},
   "outputs": [],
   "source": [
    "a = 1\n",
    "b = a\n",
    "a = 2\n",
    "print(b)"
   ]
  },
  {
   "cell_type": "code",
   "execution_count": 5,
   "metadata": {},
   "outputs": [
    {
     "name": "stdout",
     "output_type": "stream",
     "text": [
      "10\n"
     ]
    }
   ],
   "source": [
    "currentScore = 10\n",
    "highScore = currentScore\n",
    "currentScore = 7\n",
    "print(highScore)"
   ]
  },
  {
   "cell_type": "markdown",
   "metadata": {},
   "source": [
    "### Practice Problems: Variables"
   ]
  },
  {
   "cell_type": "code",
   "execution_count": 6,
   "metadata": {},
   "outputs": [
    {
     "name": "stdout",
     "output_type": "stream",
     "text": [
      "9\n",
      "9\n"
     ]
    }
   ],
   "source": [
    "num1 = 5\n",
    "num2 = 9\n",
    "num1 = num2\n",
    "\n",
    "print(num1)\n",
    "print(num2)"
   ]
  },
  {
   "cell_type": "code",
   "execution_count": 7,
   "metadata": {},
   "outputs": [
    {
     "name": "stdout",
     "output_type": "stream",
     "text": [
      "42\n",
      "42\n",
      "15\n"
     ]
    }
   ],
   "source": [
    "num1 = 15\n",
    "num2 = 25\n",
    "num3 = 42\n",
    "num2 = num3\n",
    "num3 = num1\n",
    "num1 = num2\n",
    "\n",
    "print(num1)\n",
    "print(num2)\n",
    "print(num3)"
   ]
  },
  {
   "cell_type": "code",
   "execution_count": 8,
   "metadata": {},
   "outputs": [
    {
     "name": "stdout",
     "output_type": "stream",
     "text": [
      "42\n",
      "84\n",
      "4284\n",
      "126\n"
     ]
    }
   ],
   "source": [
    "num2 += num1\n",
    "print(num1)\n",
    "print(num2)\n",
    "\n",
    "print(str(num1)+ str(num2))\n",
    "print(num1 + num2)"
   ]
  },
  {
   "cell_type": "markdown",
   "metadata": {},
   "source": [
    "## Data Abstraction\n",
    "- Method used in coding to represent data in a useful form, by taking away aspects of data that aren't being used in the situation\n",
    "- Variables and lists are primary tools in data abstraction\n",
    "- Provides a separation between the abstract properties of a data type and the concrete details of its representation"
   ]
  },
  {
   "cell_type": "markdown",
   "metadata": {},
   "source": [
    "## Why do we Use Data Abstraction? Managing the Complexity of a Program \n",
    "- Data abstractions help manage complexity in programs by giving a collection of data a name without referencing the specific details of the representation\n",
    "- Developing a data abstraction to use in a program can result in a program that is easier to develop and maintain"
   ]
  },
  {
   "cell_type": "markdown",
   "metadata": {},
   "source": [
    "## Lists: Amazing for Data Abstractions\n",
    "\n",
    "#### What are Lists?\n",
    "- Allow for data abstraction\n",
    "- Bundle variables together\n",
    "- Store multiple elements\n",
    "- Allows multiple related items to be treated as a single value\n",
    "- Give one name to a set of memory cells\n",
    "- Can keep adding elements to it as needed\n",
    "- Can store elements as a single variable by using a list\n",
    "\n",
    "#### 3 Types of List Operations:\n",
    "\n",
    "- Assigning values to a list at certain indices\n",
    "- Creating an empty list and assigning it to a variable\n",
    "- Assigning a copy of one list to another list (setting one list equal to another list)"
   ]
  },
  {
   "cell_type": "markdown",
   "metadata": {},
   "source": [
    "### Examples of List Operations:"
   ]
  },
  {
   "cell_type": "code",
   "execution_count": 9,
   "metadata": {},
   "outputs": [
    {
     "name": "stdout",
     "output_type": "stream",
     "text": [
      "['pink', 'yellow', 'green', 'blue', 'orange']\n"
     ]
    }
   ],
   "source": [
    "colorsList=[\"pink\", \"yellow\", \"green\", \"blue\", \"orange\"]\n",
    "\n",
    "print(colorsList)"
   ]
  },
  {
   "cell_type": "code",
   "execution_count": 11,
   "metadata": {},
   "outputs": [],
   "source": [
    "colorsList=[] # can be used if you want to create a list that can be filled with values later"
   ]
  },
  {
   "cell_type": "code",
   "execution_count": 12,
   "metadata": {},
   "outputs": [
    {
     "name": "stdout",
     "output_type": "stream",
     "text": [
      "['black', 'blue', 'orange', 'yellow', 'purple', 'green', 'pink']\n"
     ]
    }
   ],
   "source": [
    "# copy of the list is made; the list isn't sorted in place\n",
    "def Reverse(lst): # defining variable: lst \n",
    "    new_lst = lst[::-1] \n",
    "    return new_lst\n",
    " \n",
    "lst = [\"pink\", \"green\", \"purple\", \"yellow\", \"orange\", \"blue\", \"black\"]\n",
    "print(Reverse(lst)) # reverse 1st"
   ]
  },
  {
   "cell_type": "markdown",
   "metadata": {},
   "source": [
    "### Practice Problems: Lists"
   ]
  },
  {
   "cell_type": "code",
   "execution_count": 13,
   "metadata": {},
   "outputs": [
    {
     "name": "stdout",
     "output_type": "stream",
     "text": [
      "green\n",
      "red\n",
      "pink\n",
      "purple\n",
      "blue\n",
      "brown\n"
     ]
    }
   ],
   "source": [
    "color1=\"green\"\n",
    "color2=\"red\"\n",
    "color3=\"pink\"\n",
    "color4=\"purple\"\n",
    "color5=\"blue\"\n",
    "color6=\"brown\"\n",
    "\n",
    "print(color1)\n",
    "print(color2)\n",
    "print(color3)\n",
    "print(color4)\n",
    "print(color5)\n",
    "print(color6)"
   ]
  },
  {
   "cell_type": "code",
   "execution_count": 22,
   "metadata": {},
   "outputs": [
    {
     "name": "stdout",
     "output_type": "stream",
     "text": [
      "green\n",
      "red\n",
      "pink\n",
      "purple\n",
      "blue\n",
      "brown\n"
     ]
    }
   ],
   "source": [
    "colorList=[\"green\", \"red\", \"pink\", \"purple\", \"blue\", \"brown\"]\n",
    "\n",
    "for lmao in colorList:\n",
    "    print (lmao)\n",
    "\n",
    "# TAKE NOTES: FOR LOOPS ARE REALLY COOL"
   ]
  },
  {
   "cell_type": "markdown",
   "metadata": {},
   "source": [
    "## AP Exam Use of Data Abstraction\n",
    "With the properties of the AP Exam pseudocode, lists work differently from what we've learned in python so far, here are the two major differences:\n",
    "\n",
    "- The index does not start at 0 but 1\n",
    "- There is only one method of interchanging data between lists, and that is completely overwriting previous list data with the other list \\n\","
   ]
  },
  {
   "cell_type": "markdown",
   "metadata": {},
   "source": [
    "## Homework Assignment:"
   ]
  },
  {
   "cell_type": "code",
   "execution_count": 49,
   "metadata": {},
   "outputs": [
    {
     "name": "stdout",
     "output_type": "stream",
     "text": [
      "Our Group Data: Names, Scrum Team Roles, and Favorite Foods\n",
      "['Jeffrey Lee', 'Luke Angelini', 'Aiden Hyunh', 'Jagger Klein']\n",
      "['DevOps', 'Frontend', 'Swag Master', 'Backend']\n",
      "['Thai Food', 'Xhosa Food', 'South Mexican Food', 'American Food']\n"
     ]
    }
   ],
   "source": [
    "\n",
    "\n",
    "# Use a dictionary for the team members\n",
    "teamList = [\"Jeffrey Lee\", \"Luke Angelini\", \"Aiden Hyunh\", \"Jagger Klein\"]\n",
    "\n",
    "# Use a dictionary for the scrum team roles\n",
    "roleList = [\"DevOps\", \"Frontend\", \"Swag Master\", \"Backend\"]\n",
    "\n",
    "# Use a dictionary for the foods\n",
    "foodList = [\"Thai Food\", \"Xhosa Food\", \"South Mexican Food\", \"American Food\"]\n",
    "\n",
    "listList = [teamList, roleList, foodList]\n",
    "\n",
    "print (\"Our Group Data: Names, Scrum Team Roles, and Favorite Foods\")\n",
    "\n",
    "for list in listList:\n",
    "    print (list)\n",
    "\n",
    "\n",
    "\n",
    "\n"
   ]
  }
 ],
 "metadata": {
  "kernelspec": {
   "display_name": "Python 3.8.10 64-bit",
   "language": "python",
   "name": "python3"
  },
  "language_info": {
   "codemirror_mode": {
    "name": "ipython",
    "version": 3
   },
   "file_extension": ".py",
   "mimetype": "text/x-python",
   "name": "python",
   "nbconvert_exporter": "python",
   "pygments_lexer": "ipython3",
   "version": "3.8.10"
  },
  "orig_nbformat": 4,
  "vscode": {
   "interpreter": {
    "hash": "916dbcbb3f70747c44a77c7bcd40155683ae19c65e1c03b4aa3499c5328201f1"
   }
  }
 },
 "nbformat": 4,
 "nbformat_minor": 2
}
