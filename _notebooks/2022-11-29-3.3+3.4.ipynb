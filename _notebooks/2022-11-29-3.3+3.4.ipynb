{
 "cells": [
  {
   "cell_type": "markdown",
   "metadata": {},
   "source": [
    "# Mathematical Expressions and Strings Hacks\n",
    "\n",
    "- toc: true \n",
    "- badges: true\n",
    "- comments: true\n",
    "- categories: [jupyter, python, tri2, concept, student_learning]"
   ]
  },
  {
   "cell_type": "markdown",
   "metadata": {},
   "source": [
    "## Variables HW (Part 1):"
   ]
  },
  {
   "cell_type": "code",
   "execution_count": 7,
   "metadata": {},
   "outputs": [],
   "source": [
    "Num1 = 50\n",
    "Num2 = Num1 % 9 + 15\n",
    "Num3 = Num2 / Num1 + ( Num2 * 2 )\n",
    "Num4 = Num3 + Num1 / 5 - 10\n",
    "Result = Num4 - Num2\n",
    "\n",
    "# Num1 = 50\n",
    "# Num2 = 20\n",
    "# Num3 = 40.4\n",
    "# Num4 = 40.4\n",
    "# Answer = 40.4 - 20 = 20.4"
   ]
  },
  {
   "cell_type": "code",
   "execution_count": 8,
   "metadata": {},
   "outputs": [],
   "source": [
    "Num1 = 10\n",
    "Num2 = Num1 % 3 * 4\n",
    "Num1 = Num2\n",
    "Num3 = Num1 * 3\n",
    "Result = Num3 % 2\n",
    "\n",
    "# Num1 = 4\n",
    "# Num2 = 4\n",
    "# Num3 = 12\n",
    "# Answer = 12 % 2 = 0 "
   ]
  },
  {
   "cell_type": "markdown",
   "metadata": {},
   "source": [
    "## Variables HW (Part 2):"
   ]
  },
  {
   "cell_type": "code",
   "execution_count": null,
   "metadata": {},
   "outputs": [],
   "source": [
    "Num1 = 50\n",
    "Num2 = Num1 % 9 + 15\n",
    "Num3 = Num2 / Num1 + ( Num2 * 2 )\n",
    "Num4 = Num3 + Num1 / 5 - 10\n",
    "Result = Num4 - Num2\n",
    "\n",
    "# Num1 = 50\n",
    "# Num2 = 20\n",
    "# Num3 = 40.4\n",
    "# Num4 = 40.4\n",
    "# Answer = 40.4 - 20 = 20.4"
   ]
  },
  {
   "cell_type": "code",
   "execution_count": null,
   "metadata": {},
   "outputs": [],
   "source": [
    "Num1 = 10\n",
    "Num2 = Num1 % 3 * 4\n",
    "Num1 = Num2\n",
    "Num3 = Num1 * 3\n",
    "Result = Num3 % 2\n",
    "\n",
    "# Num1 = 4\n",
    "# Num2 = 4\n",
    "# Num3 = 12\n",
    "# Answer = 12 % 2 = 0 "
   ]
  },
  {
   "cell_type": "code",
   "execution_count": 9,
   "metadata": {},
   "outputs": [
    {
     "name": "stdout",
     "output_type": "stream",
     "text": [
      "17\n"
     ]
    }
   ],
   "source": [
    "valueA = 4\n",
    "valueB = 90\n",
    "valueC = 17\n",
    "valueB = valueC - valueA\n",
    "valueA = valueA * 10\n",
    "if valueB > 10:\n",
    "    print(valueC)\n",
    "\n",
    "# valueA = 40\n",
    "# valueB = 13\n",
    "# valueC = 17\n",
    "# Answer = 17"
   ]
  },
  {
   "cell_type": "code",
   "execution_count": 10,
   "metadata": {},
   "outputs": [
    {
     "name": "stdout",
     "output_type": "stream",
     "text": [
      "straightbrownshort\n"
     ]
    }
   ],
   "source": [
    "type = \"curly\"\n",
    "color = \"brown\"\n",
    "length = \"short\"\n",
    "type = \"straight\"\n",
    "hair = type + color + length\n",
    "print(hair)\n",
    "\n",
    "# Answer = straightbrownshort"
   ]
  },
  {
   "cell_type": "markdown",
   "metadata": {},
   "source": [
    "## Variables Hacks:\n",
    "#### Jamboard Flowchart:"
   ]
  },
  {
   "cell_type": "markdown",
   "metadata": {},
   "source": [
    "![Screenshot 2022-11-30 124345](https://user-images.githubusercontent.com/51098969/204904560-5e31f432-05a8-4d6b-b847-a9b7e0b09e39.jpg)"
   ]
  },
  {
   "cell_type": "markdown",
   "metadata": {},
   "source": [
    "#### Strings Problems:"
   ]
  },
  {
   "cell_type": "code",
   "execution_count": 27,
   "metadata": {},
   "outputs": [
    {
     "name": "stdout",
     "output_type": "stream",
     "text": [
      "Mr. Mort is very handsome.\n"
     ]
    }
   ],
   "source": [
    "Noun = \"Mr. Mortensen\" \n",
    "Adjective = \"handsome\" \n",
    "Adjective2 = \"very\" \n",
    "Verb = \"is\" \n",
    "abrev = Noun[0:8]\n",
    "baller = abrev + \" \" + Verb + \" \" + Adjective2 + \" \" + Adjective + \".\"\n",
    "print(baller)"
   ]
  },
  {
   "cell_type": "code",
   "execution_count": 26,
   "metadata": {},
   "outputs": [
    {
     "name": "stdout",
     "output_type": "stream",
     "text": [
      "Chocolate Chip Votes: 630 Oatmeal Raisin Votes: 7.0\n"
     ]
    }
   ],
   "source": [
    "cookie = \"Chocolate Chip\" \n",
    "cookie2 = \"Oatmeal Raisin\" \n",
    "len1 = len(cookie) / 2 \n",
    "len2 = len(cookie2) * 45 \n",
    "vote1 = cookie + \" Votes: \" + str(len2) \n",
    "vote2 = cookie2 + \" Votes: \" + str(len1)\n",
    "votes = vote1 +  \" \" + vote2\n",
    "print(votes)"
   ]
  }
 ],
 "metadata": {
  "kernelspec": {
   "display_name": "Python 3.8.10 64-bit",
   "language": "python",
   "name": "python3"
  },
  "language_info": {
   "codemirror_mode": {
    "name": "ipython",
    "version": 3
   },
   "file_extension": ".py",
   "mimetype": "text/x-python",
   "name": "python",
   "nbconvert_exporter": "python",
   "pygments_lexer": "ipython3",
   "version": "3.8.10 (default, Jun 22 2022, 20:18:18) \n[GCC 9.4.0]"
  },
  "orig_nbformat": 4,
  "vscode": {
   "interpreter": {
    "hash": "916dbcbb3f70747c44a77c7bcd40155683ae19c65e1c03b4aa3499c5328201f1"
   }
  }
 },
 "nbformat": 4,
 "nbformat_minor": 2
}
