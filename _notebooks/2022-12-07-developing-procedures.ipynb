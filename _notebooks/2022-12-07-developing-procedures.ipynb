{
 "cells": [
  {
   "attachments": {},
   "cell_type": "markdown",
   "metadata": {},
   "source": [
    "# Unit 3 Sections 12 and 13 lesson\n",
    "\n",
    "- title: Calling and Developing Procedures\n",
    "- toc: true\n",
    "- badges: false\n",
    "- categories: [lessons]"
   ]
  },
  {
   "attachments": {},
   "cell_type": "markdown",
   "metadata": {},
   "source": [
    "## Calling Procedures\n",
    "\n",
    "Slide 1:\n",
    "- A procedure is a named group of programming instructions that may have parameters and return values.\n",
    "- Procedures are referred to by different names, such as method or function, depending on the programing language.\n",
    "- Parameters are input values of a procedure. Arguments specify the values of the parameters when procedure is called.\n",
    "- A procedure call interrupts the sequential execution of statements causing the program to execute the statements within the procedure before continuing. One the last statement in the procedure (or a return statement) has executed, flow or control is returned to the point immediately following where the procedure was called.\n",
    "\n",
    "Slide 2:\n",
    "- When calling procedures, it's important to take notice to whether it returns data, or a block of statements.\n",
    "- If the procedure just returns a block of statements, you call the procedure by referring to the procedure name, and inputting the arguments.\n",
    "- If the procedure returns some sort of data like a boolean or value, then you will assign that value to a variable\n",
    "\n",
    "Slide 3:\n",
    "\n",
    "- Assume the Temperature outside is Fahrenheit. \n",
    "- The procedure convertFahrenheit is intended to convert from Fahrenheit to Celsius.\n",
    "- Convert the following psuedocode to python\n",
    "\n"
   ]
  },
  {
   "cell_type": "code",
   "execution_count": 10,
   "metadata": {},
   "outputs": [
    {
     "name": "stdout",
     "output_type": "stream",
     "text": [
      "Temperature in Celsius:  26.666666666666668\n"
     ]
    }
   ],
   "source": [
    "def convertFahrenheit(temperature):\n",
    "    celsius = temperature - 32\n",
    "    celsius = celsius * 5/9\n",
    "    return celsius\n",
    "\n",
    "outsideTemp = input(\"What is the temperature outside?\")\n",
    "outsideTemp = (convertFahrenheit(int(outsideTemp)))\n",
    "print(\"Temperature in Celsius: \", outsideTemp)"
   ]
  },
  {
   "attachments": {},
   "cell_type": "markdown",
   "metadata": {},
   "source": [
    "## Developing Procedures\n",
    "\n",
    "Slide 8: \n",
    "\n",
    "Picking a descriptive name is important in case you revisit the code later on (separate words with capitals)\n",
    "There are 2 different types of procedures- ones that return a value and those that simply execute a block of statements\n",
    "Steps of developing procedure: picking a useful name, thinking of parameters (what data does the procedure need to know), making a flowchart or writing procedure in pseudocode, and actually developing the procedure.\n",
    "\n",
    "Slide 9: \n",
    "\n",
    "In this example, a teacher is writing a program that will replace the grade on a previous quiz if the new grade is better than the previous.\n",
    "\n",
    "- What would be a good name for this procedure?\n",
    "- What parameters do we need for this procedure?\n",
    "- Try writing this procedure out in python based on the given pseudocode\n",
    "\n"
   ]
  },
  {
   "cell_type": "code",
   "execution_count": 6,
   "metadata": {},
   "outputs": [
    {
     "name": "stdout",
     "output_type": "stream",
     "text": [
      "Your score is still 35\n"
     ]
    }
   ],
   "source": [
    "quizGrade = 35\n",
    "def currentGrade(currentPoints):    \n",
    "    currentGrade = currentPoints / 40\n",
    "    currentGrade = currentGrade * 100\n",
    "    return currentGrade\n",
    "\n",
    "newPoints = int(input(\"How many points do you currently have?\"))\n",
    "newPercent = (currentGrade(int(newPoints)))\n",
    "\n",
    "if (newPoints > quizGrade):\n",
    "    newquizGrade = newPercent\n",
    "    print(\"Your new grade is: \" + str(newquizGrade))\n",
    "else:\n",
    "    print(\"Your score is still \" + str(quizGrade))"
   ]
  },
  {
   "attachments": {},
   "cell_type": "markdown",
   "metadata": {},
   "source": [
    "## Procedural Abstraction\n",
    "\n",
    "- One type of abstraction is procedural abstraction which provides a name for a process and allows a procedure to be used only knowing what it does and not how it does it\n",
    "- This is very helpful in managing complexity in a program\n",
    "- Subdivision of a program into separate subprograms is called modularity\n",
    "- A procedural abstraction may extract shared features to generalize functionality instead of duplicating code. This allows for program reuse, which helps manage complexity\n",
    "- When a pre-written procedure is called, you don’t necessarily need to know the details of this, just what it does and how to call it\n",
    "- Simply, procedural abstraction is naming and calling a prewritten procedure\n",
    "- Making sure to include the right arguments so the procedure can do what its supposed to do is crucial"
   ]
  },
  {
   "cell_type": "markdown",
   "metadata": {},
   "source": [
    "## Complexity Example\n",
    "\n",
    "One of the biggest advantages of procedural abstraction is managing complexity.\n",
    "\n",
    "Think about the process of simplifying the code?\n",
    "What do you think the advantage of the code segment on the left is?\n",
    "\n",
    "|Code Segment 1|Code Segment 2|\n",
    "|--------------|--------------|\n",
    "|ROTATE_LEFT()|detourLeft()|\n",
    "MOVE_FORWARD()|turnCorner()| \n",
    "ROTATE_RIGHT  |MOVE_FORWARD()| \n",
    "MOVE_FORWARD()|MOVE_FORWARD()|\n",
    "MOVE_FORWARD()\n",
    "ROTATE_RIGHT()\n",
    "MOVE_FORWARD()\n",
    "ROTATE_LEFT()\n",
    "MOVE_FORWARD()\n",
    "ROTATE_LEFT()\n",
    "MOVE_FORWARD()\n",
    "MOVE_FORWARD\n",
    "MOVE_FORWARD()"
   ]
  },
  {
   "attachments": {},
   "cell_type": "markdown",
   "metadata": {},
   "source": [
    "## Hacks\n",
    "\n",
    "- Write a python procedure about something which can help you in school, for example the teacher’s function we spoke about earlier.\n",
    "- Points will be awarded based on creativity and functionality\n",
    "- 0.1 points will be deducted for late submissions\n",
    "- Submit the notes with all blanks filled in (scored out of 0.5 points) and the python procedure (scored out of 0.5 points) by Monday 12/12 at 11:59 PM.\n"
   ]
  },
  {
   "cell_type": "code",
   "execution_count": 4,
   "metadata": {},
   "outputs": [
    {
     "name": "stdout",
     "output_type": "stream",
     "text": [
      "Come back again!\n",
      "Total Number of Birthdays:  3\n",
      "Name: Jeffrey\n",
      "\t Birthday: December 27\n",
      "\n",
      "Name: Avinh\n",
      "\t Birthday: December 27\n",
      "\n",
      "Name: Joey\n",
      "\t Birthday: April 1\n",
      "\n"
     ]
    }
   ],
   "source": [
    "infoDb = []\n",
    "\n",
    "infoDb.append({\n",
    "    \"Name\": \"Jeffrey\",\n",
    "    \"Birthday\": \"December 27\",\n",
    "})\n",
    "\n",
    "infoDb.append({\n",
    "    \"Name\": \"Avinh\",\n",
    "    \"Birthday\": \"December 27\",\n",
    "})\n",
    "\n",
    "def print_data2(d_rec):                         # formatting\n",
    "    print(\"Name:\", d_rec[\"Name\"])               # using comma puts space between values\n",
    "    print(\"\\t\", \"Birthday:\", d_rec[\"Birthday\"]) # \\t is a tab indent\n",
    "    print()\n",
    "\n",
    "def data_entry():                               # defining the function that asks for user input\n",
    "    Name = input(\"Which person would you like to add into the database?\")\n",
    "    Birthday = input(\"What is the birthday of this person?\")\n",
    "\n",
    "    infoDb.append({                             # appends the user input to the dictionary\n",
    "        \"Name\": Name,\n",
    "        \"Birthday\": Birthday,\n",
    "   \n",
    "    })\n",
    "\n",
    "def search_data(Name):\n",
    "    for record in infoDb:\n",
    "        if record[\"Name\"] == Name:              # compares the already existing name to the name inputted with the name variable\n",
    "            return record\n",
    "\n",
    "    return NULL\n",
    "\n",
    "def data_delete(Name):\n",
    "    record = search_data(Name)                  # defines record as the name inputted with the search function\n",
    "    if (record != NULL):                        # if the record doesn't equal null (does it exist?) then the next line removes it\n",
    "        infoDb.remove(record)\n",
    "        print(Name, \"has been deleted!\")\n",
    "    else:\n",
    "        print(\"Record not found!\")\n",
    "\n",
    "def main():\n",
    "    Continue = True                             # defining continue as true\n",
    "    while Continue:\n",
    "        gamer = input(\"What would you like to do (add/search/delete, type no if you want to exit)?\")\n",
    "        if gamer == \"no\":\n",
    "            print(\"Come back again!\")\n",
    "            Continue = False\n",
    "        elif gamer == \"add\":\n",
    "            data_entry()\n",
    "        elif gamer == \"search\":\n",
    "            Name = input(\"What name do you want to search?\")\n",
    "            record = search_data(Name)          # defines record as the input \"name\" and runs it through the search function\n",
    "            print_data2(record)\n",
    "        elif gamer == \"delete\":\n",
    "            Name = input(\"What name do you want to delete?\")\n",
    "            data_delete(Name)\n",
    "        else:\n",
    "            print(\"Invalid input. Please try again\")\n",
    "\n",
    "    length = len(infoDb)                        # defines length as the number of records\n",
    "    print(\"Total Number of Birthdays: \", length) \n",
    "    for record in infoDb:\n",
    "            print_data2(record)\n",
    " \n",
    "main()"
   ]
  }
 ],
 "metadata": {
  "kernelspec": {
   "display_name": "Python 3.8.10 64-bit",
   "language": "python",
   "name": "python3"
  },
  "language_info": {
   "codemirror_mode": {
    "name": "ipython",
    "version": 3
   },
   "file_extension": ".py",
   "mimetype": "text/x-python",
   "name": "python",
   "nbconvert_exporter": "python",
   "pygments_lexer": "ipython3",
   "version": "3.8.10"
  },
  "orig_nbformat": 4,
  "vscode": {
   "interpreter": {
    "hash": "31f2aee4e71d21fbe5cf8b01ff0e069b9275f58929596ceb00d14d90e3e16cd6"
   }
  }
 },
 "nbformat": 4,
 "nbformat_minor": 2
}
