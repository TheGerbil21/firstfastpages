{
 "cells": [
  {
   "attachments": {},
   "cell_type": "markdown",
   "metadata": {},
   "source": [
    "# Vocabulary Learned Over Trimester Two: Student Learning So Far"
   ]
  },
  {
   "attachments": {},
   "cell_type": "markdown",
   "metadata": {},
   "source": [
    "Unit 2… Binary/Data Terms\n",
    "\n",
    "- Bits \n",
    "- Bytes \n",
    "- Hexadecimal / Nibbles\n",
    "\n",
    "Binary Numbers: \n",
    "- Unsigned Integer\n",
    "- Signed Integer\n",
    "- Floating Point\n",
    "\n",
    "Binary Data Abstractions:\n",
    "- Boolean\n",
    "- ASCII\n",
    "- Unicode\n",
    "- RGB\n",
    "\n",
    "Data Compression: \n",
    "- Lossy\n",
    "- Lossless (not discussed yet)"
   ]
  },
  {
   "attachments": {},
   "cell_type": "markdown",
   "metadata": {},
   "source": [
    "Unit 3… Algorithm/Programming Terms\n",
    "\n",
    "- Variables\n",
    "- Data Types\n",
    "- Assignment Operators\n",
    "\n",
    "Managing Complexity with Variables:  \n",
    "- Lists\n",
    "- 2D Lists\n",
    "- Dictionaries\n",
    "- Class\n",
    "\n",
    "- Algorithms\n",
    "- Sequence\n",
    "- Selection\n",
    "- Iteration\n",
    "  \n",
    "- Expressions\n",
    "- Comparison Operators\n",
    "- Booleans Expressions and Selection\n",
    "- Booleans Expressions and Iteration\n",
    "- Truth Tables\n",
    "\n",
    "- Characters\n",
    "- Strings\n",
    "- Length\n",
    "- Concatenation\n",
    "- Upper\n",
    "- Lower\n",
    "- Traversing Strings\n",
    "\n",
    "Python Conditionals:\n",
    "- if, elif, else \n",
    "- Nested Selection Statements\n",
    "- Python For\n",
    "- While loops with Range\n",
    "- with List\n",
    "- Combining loops with conditionals to Break\n",
    "- Continue\n",
    "- Procedural Abstraction\n",
    "- Python Def procedures\n",
    "- Parameters\n",
    "- Return Values"
   ]
  }
 ],
 "metadata": {
  "language_info": {
   "name": "python"
  },
  "orig_nbformat": 4
 },
 "nbformat": 4,
 "nbformat_minor": 2
}
