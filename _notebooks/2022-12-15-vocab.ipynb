{
 "cells": [
  {
   "attachments": {},
   "cell_type": "markdown",
   "metadata": {},
   "source": [
    "# APCSP Vocabulary:\n",
    "- title: APCSP Vocabulary\n",
    "- toc: true\n",
    "- badges: false\n",
    "- categories: [jupyter, python, java, tri2, concept, student_learning]\n",
    "- permalink: /lesson"
   ]
  },
  {
   "attachments": {},
   "cell_type": "markdown",
   "metadata": {},
   "source": [
    "### Basic Vocabulary:\n",
    "\n",
    "- Github: web-based version-control and collaboration platform for software developers\n",
    "  \n",
    "- Jupyter Notebook: the original web application for creating and sharing computational documents\n",
    "  \n",
    "- VSCode: a streamlined code editor with support for development operations like debugging, task running, and version control\n",
    "- Python: a high-level general-purpose programming language\n",
    "- Markdown: a lightweight markup language that you can use to add formatting elements to plaintext text documents\n",
    "- Shell Script: text file that contains a sequence of commands for a UNIX-based operating system\n",
    "- Code: or a system of rules written in a particular programming language\n",
    "    - Input\tdata that is entered into or received by a computer\n",
    "    - Output data that the computer sends\n",
    "\n",
    " \n",
    "\n",
    "\n",
    "- Repository: a central place in which an aggregation of data is kept and maintained\n",
    "- Commit: the making of a set of tentative changes permanent\n",
    "- Push: the delivery of information on the Web that is initiated by the information server\n",
    "- Pull: to request data from another program or computer\n",
    "- Bash: a command line interpreter that typically runs in a text window where user can interpret commands to carry out various actions\n",
    "\n",
    "### Unit 2 Vocabulary:\n",
    "\n",
    "- Bits: the smallest unit of data that a computer can process and store\n",
    "  \n",
    "- Bytes: a unit of data that is eight binary digits long\n",
    "  \n",
    "- Hexadecimal: a numbering system with base 16\n",
    "- Unassigned Integer: just like integers (whole numbers) but have the property that they don’t have a + or - sign associated with them\n",
    "- Signed Integer: a 32-bit datum that encodes an integer in the range [-2147483648 to 2147483647]\n",
    "- Floating Point: a positive or negative whole number with a decimal point\n",
    "- Boolean: a logical data type that can have only the values true or false\n",
    "- ASCII: the most common character encoding format for text data in computers and on the internet\n",
    "- Unicode: a modern standard for text representation that defines each of the letters and symbols commonly used in today’s digital and print media\n",
    "- RGB: a system for representing the colors to be used on a computer display\n",
    "- Lossy: a data encoding and compression technique that deliberately discards some data in the compression process\n",
    "- Lossless: restores and rebuilds file data in its original form after the file is decompressed\n",
    "\n",
    "### Unit 3 Vocabulary:\n",
    "\n",
    "- Variable: a value that can change, depending on conditions or on information passed to the program\n",
    "\n",
    "- Data Types: a classification that specifies which type of value a variable has and what type of mathematical, relational or logical operations can be applied to it without causing an error\n",
    "\n",
    "- Assignment Operators: a statement in computer programming that is used to set a value to a variable nam\n",
    "- Lists: an abstract data type that represents a finite number of ordered values, where the same value may occur more than once\n",
    "- 2D List: a collection of data cells, all of the same type, which can be given a single name\n",
    "- Dictionary: a branch of science that deals with the theory of computation or the design of computers\n",
    "- Class: a template definition of the method s and variable s in a particular kind of object\n",
    "- Algorithms: a procedure used for solving a problem or performing a computation\n",
    "- Sequence: A set of logical steps carried out in order\n",
    "- Selection: a programming construct where a section of code is run only if a condition is met\n",
    "- Iteration: a process where the design of a product or application is improved by repeated review and testing\n",
    "- Expression: a syntactic entity in a programming language that may be evaluated to determine its value"
   ]
  }
 ],
 "metadata": {
  "kernelspec": {
   "display_name": "base",
   "language": "python",
   "name": "python3"
  },
  "language_info": {
   "name": "python",
   "version": "3.9.12 (main, Apr  5 2022, 06:56:58) \n[GCC 7.5.0]"
  },
  "orig_nbformat": 4,
  "vscode": {
   "interpreter": {
    "hash": "33b7faac005f2384b37f2a134eb1adf5eac1d0360d10472da820efce69591b96"
   }
  }
 },
 "nbformat": 4,
 "nbformat_minor": 2
}
