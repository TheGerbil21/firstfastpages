{
 "cells": [
  {
   "attachments": {},
   "cell_type": "markdown",
   "metadata": {},
   "source": [
    "# Trimester Two Scrum Team Outline + Project Purpose\n",
    "\n",
    "- toc: false \n",
    "- badges: true\n",
    "- comments: true\n",
    "- categories: [jupyter, tri2, human_prep]"
   ]
  },
  {
   "attachments": {},
   "cell_type": "markdown",
   "metadata": {},
   "source": [
    "## Scrum Team Roles\n",
    "My team and I decided on the following roles:\n",
    "\n",
    "- Jeffrey: DevOps\n",
    "- Aiden: Scrum Master\n",
    "- Luke A: Frontend Developer\n",
    "- Jagger: Frontend Developer\n",
    "- James: Backend Developer\n",
    "\n",
    "## My Expectations:\n",
    "\n",
    "As DEVOPS, I will understand our project's platforms and requirements for proper deployment. I will also keeps tabs on each member/feature in the group, making sure that tasks are fulfilled prior to deployment. I have a good understanding of deployment through Flask and AWS, but I will continue to improve upon my understand. Need to make the process efficient to have CI/CD available at any time.  \n",
    "\n",
    "## Group Role Expectations:\n",
    "\n",
    "I will oversee general development and help out on all aspects of our project where needed. We intend to use HTML/CSS/JS for our frontend and Python on the backend. The DevOps pipeline will be powered by GitHub Actions + some hosting provider (AWS)."
   ]
  }
 ],
 "metadata": {
  "kernelspec": {
   "display_name": "base",
   "language": "python",
   "name": "python3"
  },
  "language_info": {
   "name": "python",
   "version": "3.9.12 (main, Apr  5 2022, 06:56:58) \n[GCC 7.5.0]"
  },
  "orig_nbformat": 4,
  "vscode": {
   "interpreter": {
    "hash": "33b7faac005f2384b37f2a134eb1adf5eac1d0360d10472da820efce69591b96"
   }
  }
 },
 "nbformat": 4,
 "nbformat_minor": 2
}
