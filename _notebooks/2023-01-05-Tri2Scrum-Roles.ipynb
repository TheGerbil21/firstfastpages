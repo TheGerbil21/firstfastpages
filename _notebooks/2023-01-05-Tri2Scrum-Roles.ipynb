{
 "cells": [
  {
   "attachments": {},
   "cell_type": "markdown",
   "metadata": {},
   "source": [
    "# Trimester Two Scrum Team Outline + Project Purpose\n",
    "\n",
    "- toc: false \n",
    "- badges: true\n",
    "- comments: true\n",
    "- categories: [jupyter, tri2, human_prep]"
   ]
  },
  {
   "attachments": {},
   "cell_type": "markdown",
   "metadata": {},
   "source": [
    "## Scrum Team Roles\n",
    "My team and I decided on the following roles:\n",
    "\n",
    "- Jeffrey: DevOps\n",
    "- Aiden: Scrum Master\n",
    "- Luke A: Frontend Developer\n",
    "- Jagger: Frontend Developer\n",
    "- James: Backend Developer\n",
    "\n",
    "## My Expectations:\n",
    "\n",
    "As DEVOPS, I will understand our project's platforms and requirements for proper deployment. I will also keeps tabs on each member/feature in the group, making sure that tasks are fulfilled prior to deployment. I have a good understanding of deployment through Flask and AWS, but I will continue to improve upon my understand. Need to make the process efficient to have CI/CD available at any time.  \n",
    "\n",
    "## Group Role Expectations:\n",
    "\n",
    "SCRUM MASTER will oversee general development and help out on all aspects of the project where needed. We intend to use HTML/CSS/SASS for our frontend and Python on the backend. The DevOps pipeline will be powered by GitHub Actions + AWS hosting provider. Scrum Master should be aware of everyone's progress and update issue ticket or other platform of the team's progress.\n",
    "\n",
    "FRONTEND DEVELOPER will work alongside backend developer and scrum master to make the design that is on par with everyone's expectations. NO SLACKING OFF! If there isn't frontend work to be done, then they will be in charge of testing features and updating progress of the features.\n",
    "\n",
    "BACKEND DEVELOPER will work on any code not associated with the direct front page designs. Algorithms, loops, iteration, and other tasks will all needed to be completed pretty early on. Any misunderstandings should be cleared with Scrum Master. Be on top of finishing the backend code as soon as CPT period starts."
   ]
  },
  {
   "attachments": {},
   "cell_type": "markdown",
   "metadata": {},
   "source": [
    "## Quality Control:\n",
    "\n",
    "To incentivize group members to work to their fullest, I am adding a tiny punishment where whoever the group decides did the least amount of work over the CPT period will treat the group out to drinks, or a meal. On top of this, I'll check base with my team members more than last trimester."
   ]
  }
 ],
 "metadata": {
  "kernelspec": {
   "display_name": "base",
   "language": "python",
   "name": "python3"
  },
  "language_info": {
   "name": "python",
   "version": "3.9.12 (main, Apr  5 2022, 06:56:58) \n[GCC 7.5.0]"
  },
  "orig_nbformat": 4,
  "vscode": {
   "interpreter": {
    "hash": "33b7faac005f2384b37f2a134eb1adf5eac1d0360d10472da820efce69591b96"
   }
  }
 },
 "nbformat": 4,
 "nbformat_minor": 2
}
