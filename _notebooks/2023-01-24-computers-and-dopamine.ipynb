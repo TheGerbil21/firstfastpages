{
 "cells": [
  {
   "attachments": {},
   "cell_type": "markdown",
   "metadata": {},
   "source": [
    "# Unit 5 Sections 1-2\n",
    "\n",
    "- title: Big Ideas 5.1 and 5.2\n",
    "- toc: true\n",
    "- categories: [jupyter, python, java, tri2, concept, student_learning, human_prep]\n",
    "- toc: true"
   ]
  },
  {
   "attachments": {},
   "cell_type": "markdown",
   "metadata": {},
   "source": [
    "### Big Idea 5.1 Beneficial and Harmful Effects\n",
    "\n",
    "There are always benefits and drawbacks to everything, especially computing and machines alongside artificial intelligence. Drones are a violation of privacy, but they also help with recon and scouting. ChatGPT helps people with dialoguing language and framework code, but causes difficulty with the validity of assignments and homework. All of these inventions have helpful features to compliment the drawbacks.\n",
    "\n",
    "##### Blog Reflection\n",
    "    1. Three of my own beneficial and corresponding harmful effects of computing:\n",
    "       a.   Amazon: Has revolutionized the online marketplace and made shopping for virtually anything extremely simple through online platforms. However, a drawback to this is that many department stores and in-person marketplaces have suffered as a result to Amazon's dominance. No tother online marketplace can truly compete with Amazon's versatility and presence.\n",
    "       b.   UberEats, GrubHub, and DoorDash: \n",
    "       c.   yessir "
   ]
  },
  {
   "attachments": {},
   "cell_type": "markdown",
   "metadata": {},
   "source": [
    "### Individual Blog: Questions Covered on Canvas\n",
    "\n",
    "Think of three beneficial effects of your projects based on 5.1 Unit\n",
    "Think of a potential harmful effect of your project.\n",
    "Answer with an opinion and learnings so far this year:  What are pros/cons on internet blockers at router and lack of admin password on lab machines at school?\n",
    "What concerns do you have personally about the digital divide?  For yourself or for others."
   ]
  },
  {
   "cell_type": "markdown",
   "metadata": {},
   "source": []
  }
 ],
 "metadata": {
  "kernelspec": {
   "display_name": "base",
   "language": "python",
   "name": "python3"
  },
  "language_info": {
   "name": "python",
   "version": "3.9.12 (main, Apr  5 2022, 06:56:58) \n[GCC 7.5.0]"
  },
  "orig_nbformat": 4,
  "vscode": {
   "interpreter": {
    "hash": "33b7faac005f2384b37f2a134eb1adf5eac1d0360d10472da820efce69591b96"
   }
  }
 },
 "nbformat": 4,
 "nbformat_minor": 2
}
