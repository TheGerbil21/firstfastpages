{
 "cells": [
  {
   "attachments": {},
   "cell_type": "markdown",
   "metadata": {},
   "source": [
    "# Unit 5 Sections 1-2\n",
    "\n",
    "- title: Big Ideas 5.1 and 5.2\n",
    "- toc: true\n",
    "- categories: [jupyter, python, java, tri2, concept, student_learning, human_prep]\n",
    "- toc: true"
   ]
  },
  {
   "attachments": {},
   "cell_type": "markdown",
   "metadata": {},
   "source": [
    "### Big Idea 5.1 Beneficial and Harmful Effects\n",
    "\n",
    "There are always benefits and drawbacks to everything, especially computing and machines alongside artificial intelligence. Drones are a violation of privacy, but they also help with recon and scouting. ChatGPT helps people with dialoguing language and framework code, but causes difficulty with the validity of assignments and homework. All of these inventions have helpful features to compliment the drawbacks.\n",
    "\n",
    "##### 5.1 Blog Reflection\n",
    "1. Three of my own beneficial and corresponding harmful effects of computing:\n",
    "- Amazon: Has revolutionized the online marketplace and made shopping for virtually anything extremely simple through online platforms. However, a drawback to this is that many department stores and in-person marketplaces have suffered as a result to Amazon's dominance. No tother online marketplace can truly compete with Amazon's versatility and presence.\n",
    "- UberEats, GrubHub, and DoorDash: Helped make food delivery systems more mainstream, while making in-person ordering less common and causing food consumers to become more lazy as a result.\n",
    "- Iphone: Basically sets the standard for cellphones in the market (at least in the U.S.) while also conditioning smartphone consumers to expect new phones every year with better features. Also pushes out new updates to make older phones become obsolete.\n",
    "\n",
    "2. I feel that dopamine issues are real. Yes, parents may obsess over it to the point where we feel that it is “fake news”, but dopamine being released from possibly harmful activities can be bad for us in the long run. For example, watching YouTube or playing video games can help us to release a lot of dopamine, as those activities provide us with a stress break, but doing too much of these activities can cause a drop in energy levels, a drop in productivity, and an overall smaller resolve to get up, get physical exercise, go outside, and talk to other people."
   ]
  },
  {
   "attachments": {},
   "cell_type": "markdown",
   "metadata": {},
   "source": [
    "### Big Idea 5.2 Digital Divide\n",
    "\n",
    "Deals with \"To Have and Have Not\" are now relevant in technology,with students sometimes not having any access to technology despite wanting to pursue paths and careers in the field. Laptops, servers and other resources are hard to come by in certain areas of the world, and a divide exists where there is a bar for entry in the technology department.\n",
    "\n",
    "##### 5.2 Blog Reflection\n",
    "1. One can empower themselves in the digital world by simply knowing how to use technology and utilizing tech to fufill tasks more efficiently and smoothly. \n",
    "\n",
    "2. At Del Norte HS, students who do feel empowered can showcase exactly what makes technology so helpful, and encourage others on campus to utilize tech through taking certain classes or showing projects/features to others. This will build interest and spread technology to all parts of campus."
   ]
  },
  {
   "attachments": {},
   "cell_type": "markdown",
   "metadata": {},
   "source": [
    "### Individual Blog: Questions Covered on Canvas\n",
    "\n",
    "Think of three beneficial effects of your projects based on 5.1 Unit.\n",
    "- My project feature will help small business better track the locations of their packages, document shipments, and finally keep better track of logistics when handling global shipping and freighting.\n",
    "Think of a potential harmful effect of your project.\n",
    "- A potential harmful effect of my project feature would be people using is maliciously to track people with ill intent, such as to dox their location online.\n",
    "Answer with an opinion and learnings so far this year:  What are pros/cons on internet blockers at router and lack of admin password on lab machines at school?\n",
    "- In my opinion, I really don't like the internet blockers and lack of admin password for technology at school, because many high school students need to start making better choices for their success. Blocking certain websites and making the school servers not work alongside CS programs causes many problems for a tradeoff of almost nothing. Students can still use their cellphones with data to bypass the servers and distract themselves, and enforcing stricter rules of computer usage would be easier and cost less resources to implement for the district.\n",
    "  \n",
    "What concerns do you have personally about the digital divide?  For yourself or for others.\n",
    "- The only concerns that I have for the digital divide are that the most competitive jobs will soon be under technology implementation, and those with more knowledge on tech can achieve more success than those who grew up without the influence of technology. I would like there to be technology implemented for all education points, just so that students cna get a feel for what may take over the future."
   ]
  }
 ],
 "metadata": {
  "kernelspec": {
   "display_name": "base",
   "language": "python",
   "name": "python3"
  },
  "language_info": {
   "name": "python",
   "version": "3.9.12 (main, Apr  5 2022, 06:56:58) \n[GCC 7.5.0]"
  },
  "orig_nbformat": 4,
  "vscode": {
   "interpreter": {
    "hash": "33b7faac005f2384b37f2a134eb1adf5eac1d0360d10472da820efce69591b96"
   }
  }
 },
 "nbformat": 4,
 "nbformat_minor": 2
}
