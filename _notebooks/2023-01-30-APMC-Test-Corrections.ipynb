{
 "cells": [
  {
   "attachments": {},
   "cell_type": "markdown",
   "metadata": {},
   "source": [
    "# APCSP 1/30/23 MC Practice Results\n",
    "\n",
    "- toc: false \n",
    "- badges: true\n",
    "- comments: true\n",
    "- categories: [jupyter, python, tri2, misc]"
   ]
  },
  {
   "attachments": {},
   "cell_type": "markdown",
   "metadata": {},
   "source": [
    "## Evidence of Quiz Taken:\n",
    "I got a 45 out of 50 on the final, which was a higher score than I expected to get. I will be going over the questions that I got wrong and attempt corrections, as well as discussing how I felt about the test.\n",
    "\n",
    "![Screenshot 2023-01-30 215243](https://user-images.githubusercontent.com/51098969/215677387-4146b26a-3ab5-46c2-88b6-1502b948a242.jpg)\n"
   ]
  },
  {
   "attachments": {},
   "cell_type": "markdown",
   "metadata": {},
   "source": [
    "## Thoughts on the Quiz:\n",
    "I did better than I expected and compared to the last College Board Multiple Choice Quiz, I understood much more material and it took me much less time. A lot of the questions, I realized, were topics covered in the weeks that each group became the teacher, learned about a certain topic and taught it to the class."
   ]
  },
  {
   "attachments": {},
   "cell_type": "markdown",
   "metadata": {},
   "source": [
    "## Corrections for Incorrect Questions:\n",
    "#### Question 1: Initial values that yield incorrect value of max\n",
    "\n",
    "![Screenshot 2023-01-30 215720](https://user-images.githubusercontent.com/51098969/215678094-7081adaa-a18e-4f06-960c-b67f14f9b3f1.jpg)\n",
    "\n",
    "I got this question wrong because I misunderstood the algorithm and how inputting certain values into conditional statements. The correct order for inputing the values of x, y, and z should have been 3, 2, and 1 instead of 1, 3, and 2.\n",
    "\n",
    "#### Question 28: Robot in bottom right corner of grid\n",
    "\n",
    "![Screenshot 2023-01-30 220317](https://user-images.githubusercontent.com/51098969/215679231-c3062250-3464-4a0a-b138-646932394d44.jpg)\n",
    "\n",
    "I got this question wrong because I incorrectly assumed that placing a REPEAT command within another REPEAT command creates iterations four times. Instead, the robot copies a similar process only twice and finishes much further away from the end point. Option A is the proper way to execute the robot movement.\n",
    "\n",
    "#### Question 29: Robot in open grid loop 3 times\n",
    "\n",
    "![Screenshot 2023-01-30 220616](https://user-images.githubusercontent.com/51098969/215679778-fc3dcbd3-e624-4a49-bbe5-1993bac8f1d8.jpg)\n",
    "\n",
    "I got this question wrong because I ran the process of robot movement iteration too many times. Using the n <- n-1 produces the movement one less time, which puts the robot in a different place.\n",
    "\n",
    "#### Question 41: Simulating election votes\n",
    "\n",
    "![Screenshot 2023-01-30 220852](https://user-images.githubusercontent.com/51098969/215680227-46f8f2ca-9d11-472f-93e2-b68dc0ffe333.jpg)\n",
    "\n",
    "I got this question wrong because I incorrectly guessed the relationship between random integers and conditional statements. Having an output of 1/5th and 2/10th in code determine different outputs that i was not aware of.\n",
    "\n",
    "#### Question 49: What problems can be solved with algorithms\n",
    "\n",
    "![Screenshot 2023-01-30 221054](https://user-images.githubusercontent.com/51098969/215680554-caf98600-7216-4cd9-8c47-89f894fe371d.jpg)\n",
    "\n",
    "I got this question wrong because I assumed that every problem can be solved with an algorithm for all possible inputs, when in reality some problems cannot be solved with an algorithm for all possible inputs. Some problems will have no feasible solution with an algorithm."
   ]
  },
  {
   "attachments": {},
   "cell_type": "markdown",
   "metadata": {},
   "source": [
    "### Reflection:\n",
    "\n",
    "Overall, I think I did great on this multiple choice quiz. Last time, it took me a lot of more time to digest what the questions were asking and then understand how I could even decide the answer. I understood the majority of the topics on this quiz almost after a minute or two with multiple reads. From the last multiple choice, I feel like I have actually learned a lot more, even if it is the most basic knowledge. Before this quiz I was really discouraged about my progress and felt like I have not really learned much or made any progress, but from my results and the way I got through this quiz, I think I am on track so far in APCSP."
   ]
  }
 ],
 "metadata": {
  "kernelspec": {
   "display_name": "Python 3.8.10 64-bit",
   "language": "python",
   "name": "python3"
  },
  "language_info": {
   "name": "python",
   "version": "3.8.10 (default, Nov 14 2022, 12:59:47) \n[GCC 9.4.0]"
  },
  "orig_nbformat": 4,
  "vscode": {
   "interpreter": {
    "hash": "916dbcbb3f70747c44a77c7bcd40155683ae19c65e1c03b4aa3499c5328201f1"
   }
  }
 },
 "nbformat": 4,
 "nbformat_minor": 2
}
