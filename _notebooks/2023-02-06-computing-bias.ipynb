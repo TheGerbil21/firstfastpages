{
 "cells": [
  {
   "attachments": {},
   "cell_type": "markdown",
   "metadata": {},
   "source": [
    "# Unit 5 Sections 3-4\n",
    "\n",
    "- title: Big Ideas 5.3 and 5.4\n",
    "- toc: true\n",
    "- categories: [jupyter, python, java, tri2, concept, student_learning, human_prep]\n",
    "- toc: true"
   ]
  },
  {
   "attachments": {},
   "cell_type": "markdown",
   "metadata": {},
   "source": [
    "### Big Idea 5.3 Computing Bias\n",
    "\n",
    "##### Crossover Group Work:\n",
    "1. The most common age group for users on Facebook is 25 to 34, while on TikTok the most common age group is 10 to 19. I don't that either of the companies intended for these age groups to take over and exclude other age groups, but the content and actual impact of the social media were soon dominated by these similarly aged people, causing others to lose interest in the platform. I don't think it has to be corrected, because the divide is more generational than anything, and other groups can bridge said gap.\n",
    "   \n",
    "2. According to Google, voice assistants are mainly female voices because research shows a human has an innate preference to female voices. Female voices also were proven to articulate speech better than male voices. I don't think it's really that harmful, as anyone who doesn't like the voice can change it to a male voice. It's a good business model for Amazon especially, due to the prevalence of Alexa.\n",
    "\n",
    "3. Google's algorithm definitely influences my opinions, as on my phone Google continually updates with a new feed based off of my emails, searches, and purchases. \n",
    "\n",
    "#### HP Computers are Racist\n",
    "Does the owner of the computer think this was intentional? If yes or no, justify you conclusion.\n",
    "- The owner does think that the computer was intentionally not tracking his face because it is \"racist\"\n",
    "How do you think this happened?\n",
    "- Mostly because the company didn't test their feature on black people.\n",
    "Is this harmful? Was it intended to be harmful or exclude?\n",
    "- Probably not, it was likely just not tested on enough black people.\n",
    "Should it be corrected?\n",
    "- Yes, it should be corrected because this feature should be available to anyone that buys the computer.\n",
    "What would you or should you do to produce a better outcome?\n",
    "- Maybe make the camera more sensitive to faces with lower contrast."
   ]
  },
  {
   "attachments": {},
   "cell_type": "markdown",
   "metadata": {},
   "source": [
    "### 5.4: Crowdsourcing:\n",
    "\n",
    "CompSci has 150 ish principles students. Describe a crowdsource idea and how you might initiate it in our environment?\n",
    "- Students can use Slack to get other people's insights on your issues.\n",
    "\n",
    "What about Del Norte crowdsourcing? Could your project be better with crowdsourcing?\n",
    "- We can add a user input for users to add suggestions for them personally that might help others with the same problems and issues in businesses. (kinda like a Q and A)\n",
    "\n",
    "What kind of data could you capture at N@tM to make evening interesting? Perhaps use this data to impress Teachers during finals week.\n",
    "- We could collect people's suggestions on implementing features for small businesses further."
   ]
  }
 ],
 "metadata": {
  "kernelspec": {
   "display_name": "base",
   "language": "python",
   "name": "python3"
  },
  "language_info": {
   "name": "python",
   "version": "3.9.12"
  },
  "orig_nbformat": 4,
  "vscode": {
   "interpreter": {
    "hash": "33b7faac005f2384b37f2a134eb1adf5eac1d0360d10472da820efce69591b96"
   }
  }
 },
 "nbformat": 4,
 "nbformat_minor": 2
}
