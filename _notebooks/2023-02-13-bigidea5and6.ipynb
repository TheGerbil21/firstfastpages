{
 "cells": [
  {
   "attachments": {},
   "cell_type": "markdown",
   "metadata": {},
   "source": [
    "# Unit 5 Sections 5-6\n",
    "\n",
    "- title: Big Ideas 5.5 and 5.6\n",
    "- toc: true\n",
    "- categories: [jupyter, python, java, tri2, concept, student_learning, human_prep]\n",
    "- toc: true"
   ]
  },
  {
   "attachments": {},
   "cell_type": "markdown",
   "metadata": {},
   "source": [
    "## 5.5 Blog Post Reflection\n",
    "1. When you create a GitHub repository it requests a license type. Review the license types in relationship to this Tech Talk and make some notes in your personal blog.\n",
    "##### MIT License\n",
    "- The software can be utilized, copied, altered, and distributed with permission.\n",
    "- There are limited restrictions on the software’s usage, enabling it to be employed in both commercial and non-commercial endeavors.\n",
    "- The license permits anyone to use, modify, and distribute the software for any purpose, including commercial purposes, as long as the original copyright and license notifications are maintained.\n",
    "##### GPL License\n",
    "- Users of the software are granted the liberty to utilize, modify, and distribute it for any purpose, either without charge or for a fee.\n",
    "- The source code of the software must be provided to anyone who obtains a copy of it.\n",
    "- There is no discrimination in the use and distribution of the software.\n",
    "2. In your blog, summarize the discussions and personal analysis on Software Licenses/Options, Digital Rights, and other Legal and Ethical thoughts from this College Board topic.\n",
    "- Software licenses establish the guidelines and rules for the utilization, alteration, and distribution of software. Consideration of digital rights, such as privacy and intellectual property rights, is crucial in addressing ethical considerations. For instance, in the music industry, licensing prevents music piracy and ensures artists receive credit for their work.\n",
    "- This is significant for software developers as it gives them control over their creations and safeguards their rights to prevent others from misappropriating their data.\n",
    "- The intersection of software licenses, digital rights, and legal and ethical considerations is a complex and multifaceted topic that impacts the creation, distribution, and use of software.\n",
    "3. Make a license for your personal (blog) and Team repositories for the CPT project. Be sure to have a license for both Team GitHub repositories (frontend/backend). Document license(s) you picked and why. FYI, frontend, since it is built on GitHub pages may come with a license and restrictions. Document in blog how team made license choice and process of update.\n",
    "- I chose to use the MIT License for my personal fastpages because it allows for greater flexibility in the use of the software. It is easier to distribute code, which can be beneficial to other users. I chose the GPL License for the group repositories because it forces users who obtain a copy of it to provide the source code of the software.\n",
    "- [My Fastpages License (MIT License)](https://github.com/TheGerbil21/firstfastpages/blob/master/LICENSE.md)\n",
    "- [Group Flask Repository (GPL License)](https://github.com/aidenhuynh/blewupflask/blob/main/LICENSE)\n",
    "- [Group Github Pages Repository (GPL License)](https://github.com/aidenhuynh/leuckblewup/blob/gh-pages/LICENSE)"
   ]
  },
  {
   "attachments": {},
   "cell_type": "markdown",
   "metadata": {},
   "source": [
    "## 5.6 Blog Post Reflection\n",
    "1. Describe PII you have seen on project in CompSci Principles.\n",
    "- Projects that include PII on a project in CSP is seen on the login page. When people login to a site on our website, their information usually includes their name and their email. \n",
    "2. What are your feelings about PII and your personal exposure?\n",
    "- I think PIIs have the potential to be dangerous because people are able to stalk you online and I don’t want to be stalked. However, PII’s are necessary for login and user experience so it is important to be sure that the information you are giving is to a secure website where your information will not be stolen.\n",
    "3. Describe good and bad passwords? What is another step that is used to assist in authentication.\n",
    "- A good password is one that can not be guessed by other people and does not include any personal information.\n",
    "- A bad password is 1234 or something that can be easily guessed.\n",
    "4. Try to describe Symmetric and Asymmetric encryption.\n",
    "- Symmetric Encryption: Method of encryption where the same key is used for both encryption and decryption; is fast and efficient (SECRET KEY)\n",
    "- Asymmetric Encryption: Encryption that uses two different keys for encryption and decryption. The public key, is used for encrypting the data and shared widely, and the private key, is used for decrypting the data and must be kept confidential.\n",
    "5. Provide an example of encryption we used in AWS deployment.\n",
    "- AES-256 encryption\n",
    "6. Describe a phishing scheme you have learned about the hard way. Describe some other phishing techniques.\n",
    "- A phishing scheme I seen recently is where an unknown number texts you about a guaranteed way to make a lot of money using cryptocurrencies and asks you to click the link they have included. They say this link adds you to a giveaway where the winner gets to know the secret method to make the money. In reality the link just steals your information and the giveaway is fake.\n",
    "- Other phishing include malicious websites, voice mail messages, or email."
   ]
  }
 ],
 "metadata": {
  "kernelspec": {
   "display_name": "base",
   "language": "python",
   "name": "python3"
  },
  "language_info": {
   "name": "python",
   "version": "3.9.12"
  },
  "orig_nbformat": 4,
  "vscode": {
   "interpreter": {
    "hash": "33b7faac005f2384b37f2a134eb1adf5eac1d0360d10472da820efce69591b96"
   }
  }
 },
 "nbformat": 4,
 "nbformat_minor": 2
}
