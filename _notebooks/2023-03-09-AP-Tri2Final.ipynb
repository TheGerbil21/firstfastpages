{
 "cells": [
  {
   "attachments": {},
   "cell_type": "markdown",
   "metadata": {},
   "source": [
    "# APCSP /23 MC Practice Results\n",
    "\n",
    "- toc: false \n",
    "- badges: true\n",
    "- comments: true\n",
    "- categories: [jupyter, python, tri3, misc]"
   ]
  },
  {
   "attachments": {},
   "cell_type": "markdown",
   "metadata": {},
   "source": [
    "## Evidence of Quiz Taken:\n",
    "I got a 44 out of 50 on the final, which was a higher score than I expected to get. I will be going over the questions that I got wrong and attempt corrections, as well as discussing how I felt about the test.\n",
    "\n",
    "![Screenshot 2023-03-09 120155](https://user-images.githubusercontent.com/51098969/224141354-c75f25ea-9aff-40ad-9be3-a5cf8e670b81.png)\n",
    "\n"
   ]
  },
  {
   "attachments": {},
   "cell_type": "markdown",
   "metadata": {},
   "source": [
    "## Thoughts on the Quiz:\n",
    "I did better than I expected and compared to the previous College Board Multiple Choice Quizzes, I understood much more material and it took me much less time. A lot of the questions, I realized, were topics covered in the weeks prior where we learned about Big Ideas 5, learned about certain topics and had group/class discussions."
   ]
  },
  {
   "attachments": {},
   "cell_type": "markdown",
   "metadata": {},
   "source": [
    "## Corrections for Incorrect Questions:\n",
    "#### Question 5: Benefits of upgraded system\n",
    "\n",
    "![Screenshot 2023-03-09 120631](https://user-images.githubusercontent.com/51098969/224142451-abce88b2-2ab2-4203-8829-a7ca2e6d8f3b.png)\n",
    "\n",
    "I got this question wrong because I misunderstood the algorithm and how inputting certain values into conditional statements. The correct order for inputing the values of x, y, and z should have been 3, 2, and 1 instead of 1, 3, and 2.\n",
    "\n",
    "#### Question 25: True statement about program documentation\n",
    "\n",
    "![Screenshot 2023-03-09 120832](https://user-images.githubusercontent.com/51098969/224142961-6bfa2664-805b-4c4d-8e71-c0a5fea89cd8.png)\n",
    "\n",
    "I got this question wrong because I incorrectly assumed that placing a REPEAT command within another REPEAT command creates iterations four times. Instead, the robot copies a similar process only twice and finishes much further away from the end point. Option A is the proper way to execute the robot movement.\n",
    "\n",
    "#### Question 31: Algorithm to open gate in parking garage\n",
    "\n",
    "![Screenshot 2023-03-09 121012](https://user-images.githubusercontent.com/51098969/224143461-006cf81d-4308-4ed1-854c-12494422579e.png)\n",
    "\n",
    "I got this question wrong because I ran the process of robot movement iteration too many times. Using the n <- n-1 produces the movement one less time, which puts the robot in a different place.\n",
    "\n",
    "#### Question 36: Nested conditionals to set grade\n",
    "\n",
    "![Screenshot 2023-03-09 121229](https://user-images.githubusercontent.com/51098969/224144061-9deb9b28-c966-4e00-b3ca-94e4108f3f15.png)\n",
    "\n",
    "I got this question wrong because I incorrectly guessed the relationship between random integers and conditional statements. Having an output of 1/5th and 2/10th in code determine different outputs that i was not aware of.\n",
    "\n",
    "#### Question 44: Output of printArgs procedure\n",
    "\n",
    "![Screenshot 2023-03-09 121545](https://user-images.githubusercontent.com/51098969/224144946-3223737a-673b-4556-96c5-3b8b45fbbd43.png)\n",
    "\n",
    "I got this question wrong because I assumed that every problem can be solved with an algorithm for all possible inputs, when in reality some problems cannot be solved with an algorithm for all possible inputs. Some problems will have no feasible solution with an algorithm.\n",
    "\n",
    "#### Question 50: Which algorithms run in reasonable time\n",
    "\n",
    "![Screenshot 2023-03-09 121646](https://user-images.githubusercontent.com/51098969/224145244-0dc8b65c-088c-4a83-af83-04b133c8a871.png)\n",
    "\n",
    "I got this question wrong because I assumed that every problem can be solved with an algorithm for all possible inputs, when in reality some problems cannot be solved with an algorithm for all possible inputs. Some problems will have no feasible solution with an algorithm."
   ]
  },
  {
   "attachments": {},
   "cell_type": "markdown",
   "metadata": {},
   "source": [
    "### Reflection:\n",
    "\n",
    "Overall, I think I did great on this multiple choice quiz. Last time, it took me a lot of more time to digest what the questions were asking and then understand how I could even decide the answer. I understood the majority of the topics on this quiz almost after a minute or two with multiple reads. From the last multiple choice, I feel like I have actually learned a lot more, even if it is the most basic knowledge. Before this quiz I was really discouraged about my progress and felt like I have not really learned much or made any progress, but from my results and the way I got through this quiz, I think I am on track so far in APCSP."
   ]
  }
 ],
 "metadata": {
  "kernelspec": {
   "display_name": "Python 3.8.10 64-bit",
   "language": "python",
   "name": "python3"
  },
  "language_info": {
   "name": "python",
   "version": "3.8.10 (default, Nov 14 2022, 12:59:47) \n[GCC 9.4.0]"
  },
  "orig_nbformat": 4,
  "vscode": {
   "interpreter": {
    "hash": "916dbcbb3f70747c44a77c7bcd40155683ae19c65e1c03b4aa3499c5328201f1"
   }
  }
 },
 "nbformat": 4,
 "nbformat_minor": 2
}
