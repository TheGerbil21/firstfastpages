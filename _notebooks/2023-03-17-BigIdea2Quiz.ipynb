{
 "cells": [
  {
   "attachments": {},
   "cell_type": "markdown",
   "metadata": {},
   "source": [
    "# APCSP 3/17/23 MC Practice Results\n",
    "\n",
    "- toc: false \n",
    "- badges: true\n",
    "- comments: true\n",
    "- categories: [jupyter, python, tri3, misc]"
   ]
  },
  {
   "attachments": {},
   "cell_type": "markdown",
   "metadata": {},
   "source": [
    "## Evidence of Quiz Taken:\n",
    "I got a 25 out of 25 on the quiz, which was a higher score than I expected to get. I will be going over the questions that I got wrong and attempt corrections, as well as discussing how I felt about the test.\n",
    "\n",
    "![Screenshot 2023-03-17 120146](https://user-images.githubusercontent.com/51098969/226002643-e08991c1-ab60-46db-87e4-d16acb091d9a.png)\n",
    "\n"
   ]
  },
  {
   "attachments": {},
   "cell_type": "markdown",
   "metadata": {},
   "source": [
    "## Thoughts on the Quiz:\n",
    "I did better than I expected and compared to the previous College Board Multiple Choice Quizzes, I understood much more material and it took me much less time. A lot of the questions, I realized, were topics covered in the weeks prior where we learned about Big Ideas 5, learned about certain topics and had group/class discussions."
   ]
  },
  {
   "attachments": {},
   "cell_type": "markdown",
   "metadata": {},
   "source": [
    "## Corrections for Incorrect Questions:\n",
    "#### Question 5: Benefits of upgraded system\n",
    "\n",
    "![Screenshot 2023-03-09 120631](https://user-images.githubusercontent.com/51098969/224142451-abce88b2-2ab2-4203-8829-a7ca2e6d8f3b.png)\n",
    "\n",
    "I got this question wrong because I misunderstood that there are some inquires that will be routed to a recording instead of a human representative. The conclusion drawn from this flowchart is that the company is not able to provide a human representative for calls made after business hours.\n",
    "\n",
    "#### Question 25: True statement about program documentation\n",
    "\n",
    "![Screenshot 2023-03-09 120832](https://user-images.githubusercontent.com/51098969/224142961-6bfa2664-805b-4c4d-8e71-c0a5fea89cd8.png)\n",
    "\n",
    "I got this question wrong because I incorrectly assumed that when a programmer works individually on a project, the process of documentation helps the programmer remember assumptions that were made, what different parts of the program are expected to do, and how the different parts work together. A better answer would be that program documentation is useful during initial program development and also when modifications are made to existing programs.\n",
    "\n",
    "#### Question 31: Algorithm to open gate in parking garage\n",
    "\n",
    "![Screenshot 2023-03-09 121012](https://user-images.githubusercontent.com/51098969/224143461-006cf81d-4308-4ed1-854c-12494422579e.png)\n",
    "\n",
    "I got this question wrong because this algorithm will turn on the motor in some cases when the gate sensor is not activated. Option D continues past the first check if the time is during business hours, the algorithm continues past the second check if the gate sensor is activated, and the algorithm continues past the third check if the gate is not open. Performing the checks in this order will ensure that the gate is opened only under the appropriate conditions.\n",
    "\n",
    "#### Question 36: Nested conditionals to set grade\n",
    "\n",
    "![Screenshot 2023-03-09 121229](https://user-images.githubusercontent.com/51098969/224144061-9deb9b28-c966-4e00-b3ca-94e4108f3f15.png)\n",
    "\n",
    "I got this question wrong because I believed code segment I worked while code segment II did not. Code segment I does not work correctly because it is not possible for \"C\" to be the value of grade at the end of the code segment.\n",
    "\n",
    "#### Question 44: Output of printArgs procedure\n",
    "\n",
    "![Screenshot 2023-03-09 121545](https://user-images.githubusercontent.com/51098969/224144946-3223737a-673b-4556-96c5-3b8b45fbbd43.png)\n",
    "\n",
    "I got this question wrong because I solved the code algorithm incorrectly. The first call to printArgs displays two asterisks, not one. The second call to printArgs displays one asterisk, not two. \n",
    "\n",
    "#### Question 50: Which algorithms run in reasonable time\n",
    "\n",
    "![Screenshot 2023-03-09 121646](https://user-images.githubusercontent.com/51098969/224145244-0dc8b65c-088c-4a83-af83-04b133c8a871.png)\n",
    "\n",
    "I got this question wrong because I assumed that as the size of the list grows, the number of steps needed to sort the list grows at a factorial rate, as the number of steps is equal to n! for a list of size n. This indicates that the algorithm does not run in a reasonable amount of time."
   ]
  },
  {
   "attachments": {},
   "cell_type": "markdown",
   "metadata": {},
   "source": [
    "### Reflection:\n",
    "\n",
    "Overall, I think I did great on this multiple choice quiz. Last time, it took me a lot of more time to digest what the questions were asking and then understand how I could even decide the answer. I understood the majority of the topics on this quiz almost after a minute or two with multiple reads. From the last multiple choice, I feel like I have actually learned a lot more, even if it is the most basic knowledge. Before this quiz I was really discouraged about my progress and felt like I have not really learned much or made any progress, but from my results and the way I got through this quiz, I think I am on track so far in APCSP."
   ]
  }
 ],
 "metadata": {
  "kernelspec": {
   "display_name": "Python 3.8.10 64-bit",
   "language": "python",
   "name": "python3"
  },
  "language_info": {
   "name": "python",
   "version": "3.8.10 (default, Nov 14 2022, 12:59:47) \n[GCC 9.4.0]"
  },
  "orig_nbformat": 4,
  "vscode": {
   "interpreter": {
    "hash": "916dbcbb3f70747c44a77c7bcd40155683ae19c65e1c03b4aa3499c5328201f1"
   }
  }
 },
 "nbformat": 4,
 "nbformat_minor": 2
}
