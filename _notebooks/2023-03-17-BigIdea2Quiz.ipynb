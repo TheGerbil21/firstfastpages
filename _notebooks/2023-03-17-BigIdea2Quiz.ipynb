{
 "cells": [
  {
   "attachments": {},
   "cell_type": "markdown",
   "metadata": {},
   "source": [
    "# APCSP 3/17/23 MC Practice Results\n",
    "\n",
    "- toc: false \n",
    "- badges: true\n",
    "- comments: true\n",
    "- categories: [jupyter, python, tri3, misc]"
   ]
  },
  {
   "attachments": {},
   "cell_type": "markdown",
   "metadata": {},
   "source": [
    "## Evidence of Quiz Taken:\n",
    "I got a 25 out of 25 on the quiz, which was a higher score than I expected to get. I will be discussing how I felt about the test overall.\n",
    "\n",
    "![Screenshot 2023-03-17 120146](https://user-images.githubusercontent.com/51098969/226002643-e08991c1-ab60-46db-87e4-d16acb091d9a.png)\n",
    "\n"
   ]
  },
  {
   "attachments": {},
   "cell_type": "markdown",
   "metadata": {},
   "source": [
    "## Thoughts on the Quiz:\n",
    "I did way better than I expected and compared to the previous College Board Multiple Choice Quizzes, I understood much more material and it took me much less time. A lot of the questions, I realized, were topics covered in the weeks prior where we learned about other Big Ideas, learned about certain topics and had group/class discussions."
   ]
  },
  {
   "attachments": {},
   "cell_type": "markdown",
   "metadata": {},
   "source": [
    "## Corrections for Incorrect Questions:\n",
    "There are no questions to correct for this quiz."
   ]
  },
  {
   "attachments": {},
   "cell_type": "markdown",
   "metadata": {},
   "source": [
    "### Reflection:\n",
    "\n",
    "Overall, I think I did great on this multiple choice quiz. Last time, it took me a lot of more time to digest what the questions were asking and then understand how I could even decide the answer. I understood the majority of the topics on this quiz almost after a minute or two with multiple reads. From the last multiple choice, I feel like I have actually learned a lot more, even if it is the most basic knowledge. Before this quiz I was really discouraged about my progress and felt like I have not really learned much or made any progress, but from my results and the way I got through this quiz, I think I am on track so far in APCSP."
   ]
  }
 ],
 "metadata": {
  "kernelspec": {
   "display_name": "Python 3.8.10 64-bit",
   "language": "python",
   "name": "python3"
  },
  "language_info": {
   "name": "python",
   "version": "3.8.10 (default, Nov 14 2022, 12:59:47) \n[GCC 9.4.0]"
  },
  "orig_nbformat": 4,
  "vscode": {
   "interpreter": {
    "hash": "916dbcbb3f70747c44a77c7bcd40155683ae19c65e1c03b4aa3499c5328201f1"
   }
  }
 },
 "nbformat": 4,
 "nbformat_minor": 2
}
