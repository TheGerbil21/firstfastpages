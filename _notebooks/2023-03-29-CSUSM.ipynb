{
 "cells": [
  {
   "attachments": {},
   "cell_type": "markdown",
   "metadata": {},
   "source": [
    "# CSU San Marcos Notes and Reflections - Jeffrey Lee\n",
    "- toc: false \n",
    "- badges: true\n",
    "- comments: true\n",
    "- categories: [jupyter, python, tri3, misc]"
   ]
  },
  {
   "attachments": {},
   "cell_type": "markdown",
   "metadata": {},
   "source": [
    "### Notes/Insights\n",
    "- Don’t let failures define you, an ambassador spoke on how she failed a lot of classes in college but it didn’t deter her path at all. I thought it was really interesting that she failed AP Physics but didn’t care about the grade and only focused on how much she enjoyed learning the subject. It was inspiring because after Junior Year, because I had a hard time in a math class I thought I wasn’t suited for a career in STEM even though I liked math. At the end of the day, if you’re good at a subject but hate it, it’s a lot harder to grow into loving something rather than starting off weaker but building your skill.\n",
    "- Computer science is relevant in every field, ambassador used python even as an applied major.\n",
    "- Apply for jobs and internships even if you feel under qualified → you learn by doing, you are going to learn a lot while working in that job. Oftentimes, employers are looking for a strong foundation of basic skills and a combination of soft skills like working well with people, detail orientedness, etc.\n",
    "- Ask faculty and others to look over your work, it is always better to have a second pair of eyes provide feedback as they probably noticed something that you didn’t. This reminded me the importance of showing others my work in computer science, I like to look at other people’s hacks and share my own work with people outside of my group because it inspires me to make changes to my own code. I used to do this a lot in past trimesters, and will try doing it more again.\n",
    "- It seems like the college you attend doesn’t seem to matter as much as I thought it did. In fact, I noticed it’s really hard for some of my friends right now who attend prestigious universities and uc’s to find internships because it’s super competitive and hard to get to know your professor in a big class. CSUSM, although it is a much smaller school, it seems to provide a lot of opportunities and attention for its students. A big name for a university doesn’t matter as much if you haven’t done any real projects or hands-on work.\n",
    "\n",
    "\n",
    "### CSU Info\n",
    "- CSU is a national leader in social mobility\n",
    "- There are a lot of local industries that want to hire graduates\n",
    "- Lots of clubs→academic and nonacademic\n",
    "- General Helpful College Info + Terms\n",
    "- Avoid internships when they are unpaid because you don’t need to worry about financial and can pursue interests at the same time\n",
    "- Grant - government funded\n",
    "- scholarship - private\n",
    "- Avoid loans if possible, two types of loans: Unsubsidized - not based on financial need and subsidized - based on financial need, partially funded by government\n",
    "- Don’t pay for your PHD because you’re providing a lot research"
   ]
  },
  {
   "attachments": {},
   "cell_type": "markdown",
   "metadata": {},
   "source": [
    "### Pictures of the STEM Electric Toothbrush Thing\n",
    "![IMG-2048](https://user-images.githubusercontent.com/51098969/228631774-2cda988e-f30d-4601-b347-78e53cb4668d.jpg)\n",
    "![IMG-2046](https://user-images.githubusercontent.com/51098969/228631792-41bb4759-35d3-42f1-8b3b-2894e8d721d2.jpg)\n"
   ]
  }
 ],
 "metadata": {
  "language_info": {
   "name": "python"
  },
  "orig_nbformat": 4
 },
 "nbformat": 4,
 "nbformat_minor": 2
}
