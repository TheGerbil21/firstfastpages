{
 "cells": [
  {
   "attachments": {},
   "cell_type": "markdown",
   "metadata": {},
   "source": [
    "# Sorting Algorithms\n",
    "> Working with Data Structures and manipulating data.\n",
    "\n",
    "- toc: true\n",
    "- categories: []\n",
    "- type: pbl\n",
    "- week: 34"
   ]
  },
  {
   "attachments": {},
   "cell_type": "markdown",
   "metadata": {},
   "source": [
    "[wget link](https://raw.githubusercontent.com/nighthawkcoders/APCSP/master/_notebooks/2023-05-15-DS-sorting.ipynb)"
   ]
  },
  {
   "cell_type": "code",
   "execution_count": 1,
   "metadata": {},
   "outputs": [
    {
     "name": "stdout",
     "output_type": "stream",
     "text": [
      "Random List\n",
      "[76, 59, 34, 89, 19, 93, 27, 65, 20, 89]\n"
     ]
    }
   ],
   "source": [
    "import random\n",
    "\n",
    "numbers = []\n",
    "for i in range(10):\n",
    "    numbers.append(random.randint(0,100))\n",
    "print(\"Random List\")\n",
    "print(numbers)"
   ]
  },
  {
   "attachments": {},
   "cell_type": "markdown",
   "metadata": {},
   "source": [
    "# Warm Up\n",
    "\n",
    "> Discuss with a partner... \n",
    "What are some strategies you would use to sort this list? (Don't worry about writing code for now)\n",
    "- **I would try to implement an algorithm that evaluates each integer in this list, then sorting the numbers from least to greatest. Like a sort function that switches out groups of 2 numbers at a time.**"
   ]
  },
  {
   "attachments": {},
   "cell_type": "markdown",
   "metadata": {},
   "source": [
    "# Explore\n",
    "\n",
    "Get into groups of 3\n",
    "\n",
    "We will be focusing on 4 algorithms today.\n",
    "\n",
    "We will look at the first one together, Bubble Sort\n",
    "\n",
    "![](images/bubble-sort.png)\n",
    "\n",
    "What is happening with this sort?\n",
    "\n",
    "In your groups you will each choose to be an expert on a sorting algorithm. Merge, Selection, and Insertion.\n",
    "Take about 5 minutes to read about your algorithm and be ready to explain it to your other group members. \n",
    "\n",
    "[Merge](https://www.geeksforgeeks.org/merge-sort/#)\n",
    "\n",
    "[Selection](https://www.geeksforgeeks.org/selection-sort/)\n",
    "\n",
    "[Insertion](https://www.geeksforgeeks.org/insertion-sort/)"
   ]
  },
  {
   "attachments": {},
   "cell_type": "markdown",
   "metadata": {},
   "source": [
    "## Practice\n",
    "\n",
    "[75, 17, 46, 80, 67, 45, 69, 79, 40, 0]\n",
    "\n",
    "How would you sort this list with... \n",
    "- Bubble Sort\n",
    "- **Make bubbles with the first group of two numbers, 75 and 17. Move places with each other, then continue iterating through each digit. Afterward decide if another bubble sort is needed.**\n",
    "- Selection Sort\n",
    "- **Iterate through each number and find the smallest, then replace that number with the first section of the array. Continue finding the next smallest number and replacing in sequential order.**\n",
    "> Explain.\n",
    "\n",
    "Practice 1\n",
    "[75, 17, 46, 80, 67, 45, 69, 79, 40, 0]\n",
    "\n",
    "How would you sort this list with...\n",
    "\n",
    "Bubble Sort\n",
    "Bubble Sort works by repeatedly swapping adjacent elements if they are in the wrong order. It continues iterating through the list until the entire list is sorted.\n",
    "\n",
    "Here's how the sorting process would unfold for the given list:\n",
    "\n",
    "Pass 1: [17, 46, 75, 67, 45, 69, 79, 40, 0, 80]\n",
    "\n",
    "Pass 2: [17, 46, 67, 45, 69, 75, 40, 0, 79, 80]\n",
    "\n",
    "Pass 3: [17, 46, 45, 67, 69, 40, 0, 75, 79, 80]\n",
    "\n",
    "Pass 4: [17, 45, 46, 67, 40, 0, 69, 75, 79, 80]\n",
    "\n",
    "Pass 5: [17, 45, 46, 40, 0, 67, 69, 75, 79, 80]\n",
    "\n",
    "Pass 6: [17, 45, 40, 0, 46, 67, 69, 75, 79, 80]\n",
    "\n",
    "Pass 7: [17, 40, 0, 45, 46, 67, 69, 75, 79, 80]\n",
    "\n",
    "Pass 8: [17, 0, 40, 45, 46, 67, 69, 75, 79, 80]\n",
    "\n",
    "Pass 9: [0, 17, 40, 45, 46, 67, 69, 75, 79, 80]\n",
    "\n",
    "After nine passes, the list is sorted in ascending order using Bubble Sort.\n",
    "\n",
    "[88, 39, 53, 39, 58, 43, 74, 81, 71, 51]\n",
    "\n",
    "How would you sort this list with... \n",
    "- Merge Sort\n",
    "- **Split the array into halves, then sort each section and finally bring back the halves to create a new array.**\n",
    "- Insertion Sort\n",
    "- **Insert. Select a number and iterate through the list under we find a place where it is greater or smaller than its surrounded numbers.**\n",
    "> Explain.\n",
    "\n",
    "Here's how the sorting process would unfold for the given list:\n",
    "\n",
    "Pass 1: [0, 17, 46, 80, 67, 45, 69, 79, 40, 75]\n",
    "\n",
    "Pass 2: [0, 17, 40, 80, 67, 45, 69, 79, 46, 75]\n",
    "\n",
    "Pass 3: [0, 17, 40, 45, 67, 80, 69, 79, 46, 75]\n",
    "\n",
    "Pass 4: [0, 17, 40, 45, 46, 80, 69, 79, 67, 75]\n",
    "\n",
    "Pass 5: [0, 17, 40, 45, 46, 67, 69, 79, 80, 75]\n",
    "\n",
    "Pass 6: [0, 17, 40, 45, 46, 67, 69, 75, 80, 79]\n",
    "\n",
    "Pass 7: [0, 17, 40, 45, 46, 67, 69, 75, 79, 80]\n",
    "\n",
    "After seven passes, the list is sorted in ascending order using Selection Sort."
   ]
  },
  {
   "attachments": {},
   "cell_type": "markdown",
   "metadata": {},
   "source": [
    "# Sorting Words\n",
    "> Sorting strings works in the same way as integers. Using your expertise algorithm, sort the following list of random words."
   ]
  },
  {
   "cell_type": "code",
   "execution_count": 4,
   "metadata": {},
   "outputs": [
    {
     "name": "stderr",
     "output_type": "stream",
     "text": [
      "[nltk_data] Downloading package words to /home/jeffrey/nltk_data...\n",
      "[nltk_data]   Package words is already up-to-date!\n"
     ]
    },
    {
     "name": "stdout",
     "output_type": "stream",
     "text": [
      "236736\n",
      "Random List:\n",
      "['monospondylic', 'counterround', 'intercorrelation', 'chende', 'amphimixis', 'rectilineation', 'slangy', 'Gaul', 'harmonic', 'starshake']\n"
     ]
    }
   ],
   "source": [
    "import nltk\n",
    "import random\n",
    "\n",
    "nltk.download('words')  # Download the word list (only required once)\n",
    "\n",
    "from nltk.corpus import words\n",
    "\n",
    "english_words = words.words()\n",
    "print(len(english_words))  # Prints the number of words in the list\n",
    "\n",
    "# You can now use the 'english_words' list in your code\n",
    "\n",
    "words = []\n",
    "for i in range(10):\n",
    "    words.append(english_words[random.randint(0,len(english_words))])\n",
    "print(\"Random List:\")\n",
    "print(words)"
   ]
  },
  {
   "cell_type": "code",
   "execution_count": 1,
   "metadata": {},
   "outputs": [
    {
     "name": "stdout",
     "output_type": "stream",
     "text": [
      "unsorted:\n",
      "['criniferous', 'logie', 'relatedness', 'prestidigital', 'Shirvan', 'ineducabilian', 'opiliaceous', 'undiscriminated', 'ballooner', 'treadmill']\n",
      "\n",
      "sorted:\n",
      "['ballooner', 'criniferous', 'ineducabilian', 'logie', 'opiliaceous', 'prestidigital', 'relatedness', 'Shirvan', 'treadmill', 'undiscriminated']\n"
     ]
    }
   ],
   "source": [
    "def merge_sort(arr):\n",
    "    if len(arr) <= 1:\n",
    "        return arr\n",
    "    mid = len(arr) // 2\n",
    "    left_half = arr[:mid]\n",
    "    right_half = arr[mid:]\n",
    "    left_half = merge_sort(left_half)\n",
    "    right_half = merge_sort(right_half)\n",
    "    return merge(left_half, right_half)\n",
    "def merge(left, right):\n",
    "    merged = []\n",
    "    left_index = 0\n",
    "    right_index = 0\n",
    "    while left_index < len(left) and right_index < len(right):\n",
    "        if left[left_index].lower() < right[right_index].lower():\n",
    "            merged.append(left[left_index])\n",
    "            left_index += 1\n",
    "        else:\n",
    "            merged.append(right[right_index])\n",
    "            right_index += 1\n",
    "    while left_index < len(left):\n",
    "        merged.append(left[left_index])\n",
    "        left_index += 1\n",
    "    while right_index < len(right):\n",
    "        merged.append(right[right_index])\n",
    "        right_index += 1\n",
    "    return merged\n",
    "words = ['criniferous', 'logie', 'relatedness', 'prestidigital', 'Shirvan', 'ineducabilian', 'opiliaceous', 'undiscriminated', 'ballooner', 'treadmill']\n",
    "sorted_words = merge_sort(words)\n",
    "\n",
    "print(\"unsorted:\")\n",
    "print(words)\n",
    "print()\n",
    "print(\"sorted:\")\n",
    "print(sorted_words)"
   ]
  },
  {
   "attachments": {},
   "cell_type": "markdown",
   "metadata": {},
   "source": [
    "## Discuss \n",
    "Answer the following with your group.\n",
    "\n",
    "- When should you use each algorithm? What makes an algorithm the right choice?\n",
    "- Given the following lists...\n",
    "    - [0, 2, 6, 4, 8, 10]\n",
    "    - **Bubble or Insertion would both be fine here. They would only need to iterate once, if I believe.**\n",
    "    - [Elephant, Banana, Cat, Dog, Apple]\n",
    "    - **A Merge sort would be great here, as there just needs to be a few changes for this list to be alphabetically correct.**\n",
    "    - [29, 13, 83, 47, 32, 78, 100, 60, 65, 15, 24, 9, 40, 68, 53, 8, 90, 58, 39, 32, 34, 91, 74, 94, 49, 87, 34, 87, 23, 17, 27, 2, 38, 58, 84, 15, 9, 46, 74, 40, 44, 8, 55, 28, 81, 92, 81, 88, 53, 38, 19, 21, 9, 54, 21, 67, 3, 41, 3, 74, 13, 71, 70, 45, 5, 36, 80, 64, 97, 86, 73, 74, 94, 79, 49, 32, 20, 68, 64, 69, 1, 77, 31, 56, 100, 80, 48, 75, 85, 93, 67, 57, 26, 56, 43, 53, 59, 28, 67, 50]\n",
    "    - **A Selection sort would be good here, as doing any other method would take a ton of iterations and waste too much time.**\n",
    "- Select the algorithm you believe is best for each, explain."
   ]
  },
  {
   "attachments": {},
   "cell_type": "markdown",
   "metadata": {},
   "source": [
    "## HACKS\n",
    "> Provided below is a Bubble Sort Algorithm sorting a list of dictionaries based off of selected key.\n",
    "\n",
    "- Now it's time to do some coding...\n",
    "\n",
    "- Run code and then research and answer these questions...\n",
    "\n",
    "- Is a list and/or dictionary in python considered a primitive or collection type? Why?\n",
    "- **A list and dictionary are both considered collection types in python. Primitive types are integers, strings, booleans, and cannot hold and organize multiple values or objects.**\n",
    "\n",
    "- Is the list passed into bubble sort \"pass-by-value\" or \"pass-by-reference? Describe why in relation to output.\n",
    "- **The list passed into bubble sort is passed by reference. This means that the actual list object is being modified within the function, and any changes made to the list will be reflected outside the function as well.**\n",
    "\n",
    "\n",
    "\n",
    "- Implement new cell(s) and/or organize cells to do the following.\n",
    "    - Create your own list\n",
    "    - Use your expertise sorting algorithm (selection, insertion, merge). Note, I got my bubble sort from Geek for Geeks and made modifications. Each student in a group should have a unique algorithm.\n",
    "    - Test your list with my bubble sort\n",
    "    - Test my list with your new sort, do NOT make a copy my list when doing this\n",
    "    - Research analysis on sorting: comparisons, swaps, time.  Build this into your hacks.\n",
    "    - Find a better way to print the data, key first, then other elements in viewable form.\n",
    "\n",
    "Use the code below to help guide your adventure"
   ]
  },
  {
   "cell_type": "code",
   "execution_count": 2,
   "metadata": {},
   "outputs": [
    {
     "name": "stdout",
     "output_type": "stream",
     "text": [
      "original\n",
      "[{'name': 'Jeffrey Lee', 'age': 18, 'album': 'Bag or Die'}, {'name': 'Derek Sol', 'age': 19, 'album': 'Heroes and Villains'}, {'name': 'Jagger Klein', 'age': 17, 'album': 'Her Loss'}]\n",
      "name\n",
      "[{'name': 'Derek Sol', 'age': 19, 'album': 'Heroes and Villains'}, {'name': 'Jagger Klein', 'age': 17, 'album': 'Her Loss'}, {'name': 'Jeffrey Lee', 'age': 18, 'album': 'Bag or Die'}]\n",
      "age\n",
      "[{'name': 'Jagger Klein', 'age': 17, 'album': 'Her Loss'}, {'name': 'Jeffrey Lee', 'age': 18, 'album': 'Bag or Die'}, {'name': 'Derek Sol', 'age': 19, 'album': 'Heroes and Villains'}]\n",
      "album\n",
      "[{'name': 'Jeffrey Lee', 'age': 18, 'album': 'Bag or Die'}, {'name': 'Jagger Klein', 'age': 17, 'album': 'Her Loss'}, {'name': 'Derek Sol', 'age': 19, 'album': 'Heroes and Villains'}]\n"
     ]
    }
   ],
   "source": [
    "\"\"\"\n",
    "* Creator: Nighthawk Coding Society\n",
    "Bubble Sort of a List with optimizations\n",
    "\"\"\"\n",
    "\n",
    "# bubble sorts a list of dictionaries, base off of provided key\n",
    "def bubbleSort(list, key):\n",
    "    n = len(list) - 1  # list are indexed 0 to n-1, len is n\n",
    "    \n",
    "    # Traverse through list with i index\n",
    "    for i in range(n):\n",
    "        swapped = False  # optimize code, so it exits if now swaps on inner loop\n",
    "\n",
    "        # Inner traversal using j index\n",
    "        for j in range(n-i):  # n-i as positions on right are in order in bubble\n",
    " \n",
    "            # Swap if the element KeyN is greater KeyN1\n",
    "            keyN = list[j].get(key)\n",
    "            keyN1 = list[j+1].get(key)\n",
    "            if keyN > keyN1:\n",
    "                swapped = True\n",
    "                list[j], list[j + 1] = list[j + 1], list[j]  # single line swap\n",
    "         \n",
    "        if not swapped:  # if no swaps on inner pass, list is sorted\n",
    "            return  # exit function\n",
    "    \n",
    "\n",
    "if __name__ == \"__main__\":\n",
    "    # list/dictionary sample\n",
    "    list_of_people = [\n",
    "    {\"name\": \"Jeffrey Lee\", \"age\": 18, \"album\": \"Bag or Die\"},\n",
    "    {\"name\": \"Derek Sol\", \"age\": 19, \"album\": \"Heroes and Villains\"},\n",
    "    {\"name\": \"Jagger Klein\", \"age\": 17, \"album\": \"Her Loss\"},\n",
    "    ]\n",
    "    \n",
    "    # assuming uniform keys, pick 1st row as source of keys\n",
    "    key_row = list_of_people[0]\n",
    "\n",
    "    # print list as defined\n",
    "    print(\"original\")\n",
    "    print(list_of_people)\n",
    "    \n",
    "    for key in key_row:  # finds each key in the row\n",
    "        print(key)\n",
    "        bubbleSort(list_of_people, key)  # sort list of people\n",
    "        print(list_of_people)"
   ]
  },
  {
   "cell_type": "code",
   "execution_count": 3,
   "metadata": {},
   "outputs": [
    {
     "name": "stdout",
     "output_type": "stream",
     "text": [
      "Original:\n",
      "[{'name': 'Jeffrey Lee', 'age': 18, 'album': 'Bag or Die'}, {'name': 'Derek Sol', 'age': 19, 'album': 'Heroes and Villains'}, {'name': 'Jagger Klein', 'age': 17, 'album': 'Her Loss'}]\n",
      "\n",
      "Sorting by key: name\n",
      "[{'name': 'Derek Sol', 'age': 19, 'album': 'Heroes and Villains'}, {'name': 'Jagger Klein', 'age': 17, 'album': 'Her Loss'}, {'name': 'Jeffrey Lee', 'age': 18, 'album': 'Bag or Die'}]\n",
      "\n",
      "Sorting by key: age\n",
      "[{'name': 'Jagger Klein', 'age': 17, 'album': 'Her Loss'}, {'name': 'Jeffrey Lee', 'age': 18, 'album': 'Bag or Die'}, {'name': 'Derek Sol', 'age': 19, 'album': 'Heroes and Villains'}]\n",
      "\n",
      "Sorting by key: album\n",
      "[{'name': 'Jeffrey Lee', 'age': 18, 'album': 'Bag or Die'}, {'name': 'Jagger Klein', 'age': 17, 'album': 'Her Loss'}, {'name': 'Derek Sol', 'age': 19, 'album': 'Heroes and Villains'}]\n"
     ]
    }
   ],
   "source": [
    "\"\"\"\n",
    "* Creator: Nighthawk Coding Society\n",
    "Selection Sort of a List with optimizations\n",
    "\"\"\"\n",
    "\n",
    "# selection sorts a list of dictionaries, based on the provided key\n",
    "def selectionSort(lst, key):\n",
    "    n = len(lst)\n",
    "    \n",
    "    # Traverse through the list with i index\n",
    "    for i in range(n):\n",
    "        min_index = i\n",
    "        \n",
    "        # Find the minimum element in the unsorted part of the list\n",
    "        for j in range(i+1, n):\n",
    "            if lst[j].get(key) < lst[min_index].get(key):\n",
    "                min_index = j\n",
    "        \n",
    "        # Swap the found minimum element with the first element\n",
    "        lst[i], lst[min_index] = lst[min_index], lst[i]\n",
    "            \n",
    "\n",
    "if __name__ == \"__main__\":\n",
    "    # List/dictionary sample\n",
    "    list_of_people = [\n",
    "        {\"name\": \"Jeffrey Lee\", \"age\": 18, \"album\": \"Bag or Die\"},\n",
    "        {\"name\": \"Derek Sol\", \"age\": 19, \"album\": \"Heroes and Villains\"},\n",
    "        {\"name\": \"Jagger Klein\", \"age\": 17, \"album\": \"Her Loss\"},\n",
    "    ]\n",
    "    \n",
    "    # Assuming uniform keys, pick the first row as the source of keys\n",
    "    key_row = list_of_people[0]\n",
    "\n",
    "    # Print the list as defined\n",
    "    print(\"Original:\")\n",
    "    print(list_of_people)\n",
    "    \n",
    "    for key in key_row:  # Find each key in the row\n",
    "        print(\"\\nSorting by key:\", key)\n",
    "        sorted_list = list_of_people.copy()  # Make a copy to preserve the original order\n",
    "        selectionSort(sorted_list, key)  # Sort the list of people\n",
    "        print(sorted_list)"
   ]
  }
 ],
 "metadata": {
  "kernelspec": {
   "display_name": "base",
   "language": "python",
   "name": "python3"
  },
  "language_info": {
   "codemirror_mode": {
    "name": "ipython",
    "version": 3
   },
   "file_extension": ".py",
   "mimetype": "text/x-python",
   "name": "python",
   "nbconvert_exporter": "python",
   "pygments_lexer": "ipython3",
   "version": "3.9.12"
  },
  "orig_nbformat": 4
 },
 "nbformat": 4,
 "nbformat_minor": 2
}
